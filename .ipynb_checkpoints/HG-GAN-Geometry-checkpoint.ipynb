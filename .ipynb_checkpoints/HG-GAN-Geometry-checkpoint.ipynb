{
 "cells": [
  {
   "cell_type": "markdown",
   "metadata": {},
   "source": [
    "## plotting a neuron"
   ]
  },
  {
   "cell_type": "code",
   "execution_count": null,
   "metadata": {
    "collapsed": false
   },
   "outputs": [],
   "source": [
    "import numpy as np\n",
    "import McNeuron\n",
    "\n",
    "from keras.models import Sequential\n",
    "from keras.layers.core import Dense, Reshape\n",
    "from keras.layers.recurrent import LSTM\n",
    "\n",
    "import matplotlib.pyplot as plt\n",
    "from copy import deepcopy\n",
    "import os\n",
    "\n",
    "%matplotlib inline"
   ]
  },
  {
   "cell_type": "code",
   "execution_count": null,
   "metadata": {
    "collapsed": false
   },
   "outputs": [],
   "source": [
    "neuron_list = McNeuron.visualize.get_all_path(os.getcwd()+\"/Data/Pyramidal/chen\")\n",
    "neuron = McNeuron.Neuron(file_format = 'swc', input_file=neuron_list[19])\n",
    "McNeuron.visualize.plot_2D(neuron)"
   ]
  },
  {
   "cell_type": "code",
   "execution_count": null,
   "metadata": {
    "collapsed": false
   },
   "outputs": [],
   "source": [
    "#tmp = neuron.subsample_main_nodes()\n",
    "np.shape(neuron.parent_index)"
   ]
  },
  {
   "cell_type": "code",
   "execution_count": null,
   "metadata": {
    "collapsed": false
   },
   "outputs": [],
   "source": [
    "from numpy import linalg as LA\n",
    "\n",
    "def random_subsample(neuron, number_random_node):\n",
    "    \"\"\"\n",
    "    randomly select a few number of nodes on the neuron and make a neuron based on that. \n",
    "    In the selected nodes, the consecutive nodes on the neuron connects by a stright line.\n",
    "    Parameters\n",
    "    ----------\n",
    "    neuron: Neuron \n",
    "    number_random_node: int\n",
    "        number of nodes to be selected.\n",
    "\n",
    "    Returns\n",
    "    -------\n",
    "        The subsample neuron. \n",
    "    \"\"\"\n",
    "    I = np.arange(neuron.n_soma, neuron.n_node)\n",
    "    np.random.shuffle(I)\n",
    "    selected_index = I[0:number_random_node]\n",
    "    selected_index = np.union1d(np.arange(neuron.n_soma), selected_index)\n",
    "    selected_index = selected_index.astype(int)\n",
    "    selected_index = np.unique(np.sort(selected_index))\n",
    "    parent_ind = np.array([],dtype = int)\n",
    "    for i in selected_index:\n",
    "        p = neuron.parent_index[i]\n",
    "        while(~np.any(selected_index == p)):\n",
    "            p = neuron.parent_index[p]\n",
    "        (ind,) = np.where(selected_index==p)\n",
    "        parent_ind = np.append(parent_ind, ind)\n",
    "    n_list = []\n",
    "    for i in range(selected_index.shape[0]):\n",
    "        n = McNeuron.Node()\n",
    "        n.xyz = neuron.nodes_list[selected_index[i]].xyz\n",
    "        n.r = neuron.nodes_list[selected_index[i]].r\n",
    "        n.type = neuron.nodes_list[selected_index[i]].type\n",
    "        n_list.append(n)\n",
    "\n",
    "    for i in np.arange(1,selected_index.shape[0]):\n",
    "        j = parent_ind[i]\n",
    "        n_list[i].parent = n_list[j]\n",
    "        n_list[j].add_child(n_list[i])\n",
    "    return McNeuron.Neuron(file_format = 'only list of nodes', input_file = n_list)\n",
    "\n",
    "def distance_preserved_subsample(neuron, dis, num):\n",
    "    initial_neuron = neuron.subsample(dis)\n",
    "    \n",
    "    \n",
    "\n",
    "def mesoscale_subsample(neuron, number):\n",
    "    main_point = neuron.subsample_main_nodes()\n",
    "    Nodes = main_point.nodes_list\n",
    "    num_rm = (main_point.n_node - number)/2.\n",
    "    for remove in range(int(num_rm)):\n",
    "        pair_list = []\n",
    "        Dis = np.array([])\n",
    "        for n in Nodes:\n",
    "            if n.parent is not None:\n",
    "                if n.parent.parent is not None:\n",
    "                    a = n.parent.children\n",
    "                    if(len(a)==2):\n",
    "                        n1 = a[0]\n",
    "                        n2 = a[1]\n",
    "                        if(len(n1.children) == 0 and len(n2.children) == 0):\n",
    "                            pair_list.append([n1 , n2])\n",
    "                            dis = LA.norm(a[0].xyz - a[1].xyz,2)\n",
    "                            Dis = np.append(Dis,dis)\n",
    "        (b,) = np.where(Dis == Dis.min())\n",
    "        b = pair_list[b[0]]\n",
    "        par = b[0].parent\n",
    "        loc = b[0].xyz + b[1].xyz\n",
    "        loc = loc/2\n",
    "        par.children = []\n",
    "        par.xyz = loc\n",
    "        Nodes.remove(b[1])\n",
    "        Nodes.remove(b[0])\n",
    "        \n",
    "    return McNeuron.Neuron(file_format = 'only list of nodes', input_file = Nodes)\n",
    "\n",
    "def reducing_data(swc_df, pruning_number=10):\n",
    "    \"\"\"\n",
    "    Parameters\n",
    "    ----------\n",
    "    swc_df: dataframe\n",
    "        the original swc file\n",
    "    pruning_number: int\n",
    "        number of nodes remaining at the end of pruning\n",
    "        \n",
    "    Returns\n",
    "    -------\n",
    "    pruned_df: dataframe\n",
    "        pruned dataframe\n",
    "    \n",
    "    \"\"\"\n",
    "    L = []\n",
    "    for i in range(len(swc_df)):\n",
    "        L.append(mesoscale_subsample(McNeuron.Neuron(file_format = 'swc', input_file = swc_df[i]), pruning_number))\n",
    "    \n",
    "    return L\n",
    "    \n",
    "def separate(list_of_neurons):\n",
    "    \"\"\"\n",
    "    Parameters\n",
    "    ----------\n",
    "    list_of_neurons: List of Neurons\n",
    "        \n",
    "        \n",
    "    Returns\n",
    "    -------\n",
    "    geometry: array of shape (n-1, 3)\n",
    "        (x, y, z) coordinates of each shape assuming that soma is at (0, 0, 0)\n",
    "        \n",
    "    morphology : array of shape (n-1,)\n",
    "        index of node - index of parent\n",
    "    \"\"\"\n",
    "    Geo = list()\n",
    "    Morph = list()\n",
    "    for n in range(len(list_of_neurons)):\n",
    "        neuron = list_of_neurons[n]\n",
    "        Geo.append(neuron.location)\n",
    "        Morph.append(neuron.parent_index)\n",
    "    \n",
    "    return Geo, Morph\n",
    "    \n",
    "def geometry_generator(n_nodes=10):\n",
    "    \"\"\"\n",
    "    Generator network: fully connected 2-layer network to generate locations\n",
    "    \n",
    "    Parameters\n",
    "    ----------\n",
    "    n_nodes: int\n",
    "        number of nodes\n",
    "    \n",
    "    Returns\n",
    "    -------\n",
    "    model: keras object\n",
    "        number of models\n",
    "    \"\"\"\n",
    "    \n",
    "    model = Sequential()\n",
    "    \n",
    "    model.add(Dense(input_dim=100, output_dim=512))\n",
    "    model.add(Activation('tanh'))\n",
    "\n",
    "    model.add(Dense(input_dim=512, output_dim=512))\n",
    "    model.add(Activation('tanh'))\n",
    "\n",
    "    model.add(Dense(input_dim=512, output_dim=n_nodes * 3))\n",
    "    model.add(Reshape((n_nodes, 3)))\n",
    "    \n",
    "    return model\n",
    "\n",
    "def morphology_generator(n_nodes=10):\n",
    "    \"\"\"\n",
    "    Generator network: fully connected 2-layer network to generate locations\n",
    "    \n",
    "    Parameters\n",
    "    ----------\n",
    "    n_nodes: int\n",
    "        number of nodes\n",
    "    \n",
    "    Returns\n",
    "    -------\n",
    "    model: keras object\n",
    "        number of models\n",
    "    \"\"\"\n",
    "    \n",
    "    model = Sequential()\n",
    "    \n",
    "    # A keras seq to seq model, with the following characteristics:\n",
    "    # input length: 1\n",
    "    # input dimensionality: 100\n",
    "    # some hidden layers for encoding\n",
    "    # some hidden layers for decoding\n",
    "    # output length: n_nodes - 1\n",
    "    # output dimensionality: n_nodes - 1 (there will finally be a softmax on each output node)\n",
    "        \n",
    "    return model"
   ]
  },
  {
   "cell_type": "code",
   "execution_count": null,
   "metadata": {
    "collapsed": false,
    "scrolled": false
   },
   "outputs": [],
   "source": [
    "for i in range(5):\n",
    "    n_nodes = 10 + 10 * i\n",
    "    subsampled_neuron = mesoscale_subsample(deepcopy(neuron), n_nodes)\n",
    "    print 'Number of nodes: %d' % (n_nodes)\n",
    "    McNeuron.visualize.plot_2D(subsampled_neuron, size = 4)\n",
    "    #McNeuron.visualize.plot_dedrite_tree(subsampled_neuron)\n",
    "    \n",
    "    #plt.show()"
   ]
  },
  {
   "cell_type": "code",
   "execution_count": null,
   "metadata": {
    "collapsed": true
   },
   "outputs": [],
   "source": [
    "for i in range(5):\n",
    "    n_nodes = 10 + 10 * i\n",
    "    subsampled_neuron = mesoscale_subsample(deepcopy(neuron), n_nodes)\n",
    "    McNeuron.visualize.plot_2D(subsampled_neuron, size = 4)"
   ]
  },
  {
   "cell_type": "markdown",
   "metadata": {},
   "source": [
    "#### Showing the geometrical data"
   ]
  },
  {
   "cell_type": "code",
   "execution_count": null,
   "metadata": {
    "collapsed": false
   },
   "outputs": [],
   "source": [
    "tmp = reducing_data(neuron_list[0:20], pruning_number=10)\n",
    "geo, morph = separate(tmp)"
   ]
  },
  {
   "cell_type": "code",
   "execution_count": null,
   "metadata": {
    "collapsed": false
   },
   "outputs": [],
   "source": [
    "McNeuron.visualize.plot_2D(tmp[0])"
   ]
  },
  {
   "cell_type": "code",
   "execution_count": null,
   "metadata": {
    "collapsed": false
   },
   "outputs": [],
   "source": [
    "plt.scatter(tmp[0].location[0,:],tmp[0].location[1,:])"
   ]
  },
  {
   "cell_type": "code",
   "execution_count": null,
   "metadata": {
    "collapsed": false,
    "scrolled": false
   },
   "outputs": [],
   "source": [
    "for n in range(10):\n",
    "    plt.scatter(geo[n][0,:],geo[n][1,:])\n",
    "    plt.show()"
   ]
  },
  {
   "cell_type": "code",
   "execution_count": null,
   "metadata": {
    "collapsed": false
   },
   "outputs": [],
   "source": [
    "McNeuron.visualize.plot_2D(tmp[1])"
   ]
  },
  {
   "cell_type": "markdown",
   "metadata": {},
   "source": [
    "#### Testing function: separate [works]"
   ]
  },
  {
   "cell_type": "code",
   "execution_count": null,
   "metadata": {
    "collapsed": false
   },
   "outputs": [],
   "source": [
    "geo, morph = separate(tmp)"
   ]
  },
  {
   "cell_type": "code",
   "execution_count": null,
   "metadata": {
    "collapsed": false
   },
   "outputs": [],
   "source": [
    "print morph[0]\n",
    "print morph[1]\n",
    "print morph[2]"
   ]
  },
  {
   "cell_type": "code",
   "execution_count": null,
   "metadata": {
    "collapsed": false
   },
   "outputs": [],
   "source": [
    "print geo[6].shape\n",
    "n = 1\n",
    "plt.scatter(geo[n][0,:],geo[n][1,:])"
   ]
  },
  {
   "cell_type": "markdown",
   "metadata": {},
   "source": [
    "#### Testing geometry_generator( ) [works]"
   ]
  },
  {
   "cell_type": "code",
   "execution_count": null,
   "metadata": {
    "collapsed": false
   },
   "outputs": [],
   "source": [
    "neuron = McNeuron.Neuron(file_format = 'swc', input_file=neuron_list[0])\n",
    "McNeuron.visualize.plot_2D(neuron)"
   ]
  },
  {
   "cell_type": "code",
   "execution_count": null,
   "metadata": {
    "collapsed": false
   },
   "outputs": [],
   "source": [
    "n1 = neuron.subsample(100)\n",
    "McNeuron.visualize.plot_2D(n1)"
   ]
  },
  {
   "cell_type": "code",
   "execution_count": null,
   "metadata": {
    "collapsed": false
   },
   "outputs": [],
   "source": [
    "McNeuron.visualize.plot_dedrite_tree(n1)"
   ]
  },
  {
   "cell_type": "code",
   "execution_count": null,
   "metadata": {
    "collapsed": false
   },
   "outputs": [],
   "source": [
    "neuron.n_node"
   ]
  },
  {
   "cell_type": "code",
   "execution_count": null,
   "metadata": {
    "collapsed": false
   },
   "outputs": [],
   "source": [
    "n1.n_node"
   ]
  },
  {
   "cell_type": "code",
   "execution_count": null,
   "metadata": {
    "collapsed": false
   },
   "outputs": [],
   "source": [
    "plt.hist(n1.distance_from_parent)"
   ]
  },
  {
   "cell_type": "code",
   "execution_count": null,
   "metadata": {
    "collapsed": false
   },
   "outputs": [],
   "source": [
    "plt.scatter(n1.location[0,:],n1.location[1,:],s = 7)"
   ]
  },
  {
   "cell_type": "code",
   "execution_count": null,
   "metadata": {
    "collapsed": true
   },
   "outputs": [],
   "source": []
  }
 ],
 "metadata": {
  "kernelspec": {
   "display_name": "Python 2",
   "language": "python",
   "name": "python2"
  },
  "language_info": {
   "codemirror_mode": {
    "name": "ipython",
    "version": 2
   },
   "file_extension": ".py",
   "mimetype": "text/x-python",
   "name": "python",
   "nbconvert_exporter": "python",
   "pygments_lexer": "ipython2",
   "version": "2.7.12"
  }
 },
 "nbformat": 4,
 "nbformat_minor": 0
}
