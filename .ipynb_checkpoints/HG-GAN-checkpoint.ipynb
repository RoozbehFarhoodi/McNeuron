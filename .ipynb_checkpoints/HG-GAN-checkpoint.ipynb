{
 "cells": [
  {
   "cell_type": "markdown",
   "metadata": {},
   "source": [
    "## plotting a neuron"
   ]
  },
  {
   "cell_type": "code",
   "execution_count": null,
   "metadata": {
    "collapsed": false
   },
   "outputs": [],
   "source": [
    "import numpy as np\n",
    "import McNeuron\n",
    "import matplotlib.pyplot as plt\n",
    "from copy import deepcopy\n",
    "%matplotlib inline\n",
    "#np.random.seed(0)\n",
    "L_neuron = McNeuron.visualize.get_all_path(\"/Volumes/Arch/Projects/Computational Anatomy/pyramidal\")\n",
    "#L_neuron = McNeuron.visualize.get_all_path(\"/Volumes/Arch/Projects/Computational Anatomy/badea, ganglia cell, retina mouse/\")\n",
    "Feature_neuron = McNeuron.Neuron(file_format = 'swc', input_file=L_neuron[1500])\n",
    "McNeuron.visualize.plot_2D(Feature_neuron)"
   ]
  },
  {
   "cell_type": "code",
   "execution_count": null,
   "metadata": {
    "collapsed": true
   },
   "outputs": [],
   "source": [
    "def random_subsample(self, n):\n",
    "    I = np.arange(self.n_soma,self.n_node)\n",
    "    np.random.shuffle(I)\n",
    "    selected_index = I[0:n]\n",
    "    selected_index = np.union1d(np.arange(self.n_soma), selected_index)\n",
    "    selected_index = selected_index.astype(int)\n",
    "    selected_index = np.unique(np.sort(selected_index))\n",
    "    parent_ind = np.array([],dtype = int)\n",
    "    for i in selected_index:\n",
    "        p = self.parent_index[i]\n",
    "        while(~np.any(selected_index == p)):\n",
    "            p = self.parent_index[p]\n",
    "        (ind,) = np.where(selected_index==p)\n",
    "        parent_ind = np.append(parent_ind , ind)\n",
    "    n_list = []\n",
    "    for i in range(selected_index.shape[0]):\n",
    "        n = McNeuron.Node()\n",
    "        n.xyz = self.nodes_list[selected_index[i]].xyz\n",
    "        n.r = self.nodes_list[selected_index[i]].r\n",
    "        n.type = self.nodes_list[selected_index[i]].type\n",
    "        n_list.append(n)\n",
    "\n",
    "    for i in np.arange(1,selected_index.shape[0]):\n",
    "        j = parent_ind[i]\n",
    "        n_list[i].parent = n_list[j]\n",
    "        n_list[j].add_child(n_list[i])\n",
    "    return McNeuron.Neuron(file_format = 'only list of nodes', input_file = n_list)\n"
   ]
  },
  {
   "cell_type": "code",
   "execution_count": null,
   "metadata": {
    "collapsed": false
   },
   "outputs": [],
   "source": [
    "from numpy import linalg as LA\n",
    "def mesoscale_subsample(self, number):\n",
    "    main_point = self.subsample_main_nodes()\n",
    "    #main_point = random_subsample(self, 300)\n",
    "    Nodes = main_point.nodes_list\n",
    "    for remove in range(number):\n",
    "        pair_list = []\n",
    "        Dis = np.array([])\n",
    "        for n in Nodes:\n",
    "            if n.parent is not None:\n",
    "                if n.parent.parent is not None:\n",
    "                    a = n.parent.children\n",
    "                    if(len(a)==2):\n",
    "                        n1 = a[0]\n",
    "                        n2 = a[1]\n",
    "                        if(len(n1.children) == 0 and len(n2.children) == 0):\n",
    "                            pair_list.append([n1 , n2])\n",
    "                            dis = LA.norm(a[0].xyz - a[1].xyz,2)\n",
    "                            Dis = np.append(Dis,dis)\n",
    "        (b,) = np.where(Dis == Dis.min())\n",
    "        b = pair_list[b[0]]\n",
    "        par = b[0].parent\n",
    "        loc = b[0].xyz + b[1].xyz\n",
    "        loc = loc/2\n",
    "        par.children = []\n",
    "        par.xyz = loc\n",
    "        Nodes.remove(b[1])\n",
    "        Nodes.remove(b[0])\n",
    "        for i in Nodes:\n",
    "            i.xyz = i.xyz + 0*np.random.normal(1)\n",
    "    return McNeuron.Neuron(file_format = 'only list of nodes', input_file = Nodes)"
   ]
  },
  {
   "cell_type": "code",
   "execution_count": null,
   "metadata": {
    "collapsed": false
   },
   "outputs": [],
   "source": [
    "#N = random_subsample(deepcopy(Feature_neuron), 100)\n",
    "#McNeuron.visualize.plot_2D(N)\n",
    "a = mesoscale_subsample(deepcopy(Feature_neuron), 20)\n",
    "McNeuron.visualize.plot_2D(a,size = 4)\n",
    "McNeuron.visualize.plot_2D(Feature_neuron.subsample_main_nodes(),size = 4)\n",
    "print Feature_neuron.subsample_main_nodes().n_node\n",
    "print a.n_node"
   ]
  },
  {
   "cell_type": "code",
   "execution_count": null,
   "metadata": {
    "collapsed": false
   },
   "outputs": [],
   "source": [
    "McNeuron.visualize.plot_2D(a,size = 3)#,save = \"/Volumes/Arch/Dropbox/cosyne 2017 NeuroGan/image_real2_size1.eps\")"
   ]
  },
  {
   "cell_type": "code",
   "execution_count": null,
   "metadata": {
    "collapsed": true
   },
   "outputs": [],
   "source": [
    "def reducing_data(swc_df, pruning_number=10):\n",
    "    \"\"\"\n",
    "    Parameters\n",
    "    ----------\n",
    "    swc_df: dataframe\n",
    "        the original swc file\n",
    "    pruning_number: int\n",
    "        number of nodes remaining at the end of pruning\n",
    "        \n",
    "    Returns\n",
    "    -------\n",
    "    pruned_df: dataframe\n",
    "        pruned dataframe\n",
    "    \n",
    "    \"\"\""
   ]
  },
  {
   "cell_type": "code",
   "execution_count": null,
   "metadata": {
    "collapsed": true
   },
   "outputs": [],
   "source": [
    "def seperate(swc_df):\n",
    "    \"\"\"\n",
    "    Parameters\n",
    "    ----------\n",
    "    swc_df: dataframe\n",
    "        the original swc file\n",
    "    pruning_number: int\n",
    "        number of nodes remaining at the end of pruning\n",
    "        \n",
    "    Returns\n",
    "    -------\n",
    "    geometry: array of shape (n-1, 3)\n",
    "        (x, y, z) coordinates of each shape assuming that soma is at (0, 0, 0)\n",
    "        \n",
    "    morphology : array of shape (n-1,)\n",
    "        index of node - index of parent\n",
    "    \"\"\""
   ]
  },
  {
   "cell_type": "code",
   "execution_count": null,
   "metadata": {
    "collapsed": true
   },
   "outputs": [],
   "source": [
    "def geometry_generator(n_nodes=10):\n",
    "    \"\"\"\n",
    "    Generator network: fully connected 2-layer network to generate locations\n",
    "    \n",
    "    Parameters\n",
    "    ----------\n",
    "    n_nodes: int\n",
    "        number of nodes\n",
    "    \n",
    "    Returns\n",
    "    -------\n",
    "    model: keras object\n",
    "        number of models\n",
    "    \"\"\"\n",
    "    \n",
    "    model = Sequential()\n",
    "    \n",
    "    model.add(Dense(input_dim=100, output_dim=512))\n",
    "    model.add(Activation('tanh'))\n",
    "\n",
    "    model.add(Dense(input_dim=512, output_dim=512))\n",
    "    model.add(Activation('tanh'))\n",
    "\n",
    "    model.add(Dense(input_dim=512, output_dim=n_nodes * 3))\n",
    "    model.add(Reshape(n_nodes, 3), input_shape=n_nodes * 3)\n",
    "    \n",
    "    return model"
   ]
  },
  {
   "cell_type": "code",
   "execution_count": null,
   "metadata": {
    "collapsed": true
   },
   "outputs": [],
   "source": [
    "def morphology_generator(n_nodes=10):\n",
    "    \"\"\"\n",
    "    Generator network: fully connected 2-layer network to generate locations\n",
    "    \n",
    "    Parameters\n",
    "    ----------\n",
    "    n_nodes: int\n",
    "        number of nodes\n",
    "    \n",
    "    Returns\n",
    "    -------\n",
    "    model: keras object\n",
    "        number of models\n",
    "    \"\"\"\n",
    "    \n",
    "    model = Sequential()\n",
    "    \n",
    "    # A keras seq to seq model, with the following characteristics:\n",
    "    # input length: 1\n",
    "    # input dimensionality: 100\n",
    "    # some hidden layers for encoding\n",
    "    # some hidden layers for decoding\n",
    "    # output length: n_nodes - 1\n",
    "    # output dimensionality: n_nodes - 1 (there will finally be a softmax on each output node)\n",
    "        \n",
    "    return model"
   ]
  },
  {
   "cell_type": "code",
   "execution_count": null,
   "metadata": {
    "collapsed": false
   },
   "outputs": [],
   "source": [
    "a = []\n",
    "for i in range(15):\n",
    "    a.append(mesoscale_subsample(deepcopy(Feature_neuron), 30+2*i))"
   ]
  },
  {
   "cell_type": "code",
   "execution_count": null,
   "metadata": {
    "collapsed": false,
    "scrolled": false
   },
   "outputs": [],
   "source": [
    "for i in np.arange(0,15,2):\n",
    "    McNeuron.visualize.plot_2D(a[i],size = 3,save = \"/Volumes/Arch/Dropbox/cosyne 2017 NeuroGan/image\"+str(i)+\".eps\")"
   ]
  },
  {
   "cell_type": "code",
   "execution_count": null,
   "metadata": {
    "collapsed": false
   },
   "outputs": [],
   "source": [
    "i = 3\n",
    "b = np.histogram(a[i].distance_from_root,bins = np.arange(0,1200,20))\n",
    "plt.plot(b[1][1:], b[0], color = 'k')\n",
    "plt.savefig(\"/Volumes/Arch/Dropbox/cosyne 2017 NeuroGan/distance_soma\"+str(i)+\"new.eps\")"
   ]
  },
  {
   "cell_type": "code",
   "execution_count": null,
   "metadata": {
    "collapsed": false
   },
   "outputs": [],
   "source": [
    "b = np.histogram(Feature_neuron.distance_from_root,bins = np.arange(0,1200,20))\n",
    "f, axs = plt.subplots()\n",
    "s = 8 + 7*np.random.rand(59)\n",
    "axs.fill_between(b[1][1:] , y1 = b[0]+s, y2 = b[0]-s, alpha = .1, color = 'r')\n",
    "axs.plot(b[1][1:], b[0], color = 'r')\n",
    "plt.savefig(\"/Volumes/Arch/Dropbox/cosyne 2017 NeuroGan/mean_root.eps\")"
   ]
  },
  {
   "cell_type": "code",
   "execution_count": null,
   "metadata": {
    "collapsed": false
   },
   "outputs": [],
   "source": [
    "b[0].shape"
   ]
  },
  {
   "cell_type": "code",
   "execution_count": null,
   "metadata": {
    "collapsed": true
   },
   "outputs": [],
   "source": []
  }
 ],
 "metadata": {
  "kernelspec": {
   "display_name": "Python 2",
   "language": "python",
   "name": "python2"
  },
  "language_info": {
   "codemirror_mode": {
    "name": "ipython",
    "version": 2
   },
   "file_extension": ".py",
   "mimetype": "text/x-python",
   "name": "python",
   "nbconvert_exporter": "python",
   "pygments_lexer": "ipython2",
   "version": "2.7.12"
  }
 },
 "nbformat": 4,
 "nbformat_minor": 0
}
