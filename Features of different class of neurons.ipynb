{
 "cells": [
  {
   "cell_type": "markdown",
   "metadata": {},
   "source": [
    "In this script features of different calss of the neuron are shown. The features are in the form of histogram, density or scalar values."
   ]
  },
  {
   "cell_type": "code",
   "execution_count": 1,
   "metadata": {
    "collapsed": false
   },
   "outputs": [],
   "source": [
    "import numpy as np\n",
    "import McNeuron\n",
    "import matplotlib.pyplot as plt\n",
    "%matplotlib inline"
   ]
  },
  {
   "cell_type": "markdown",
   "metadata": {},
   "source": [
    "# Class1: Interneuron"
   ]
  },
  {
   "cell_type": "markdown",
   "metadata": {},
   "source": [
    "## An indivisual neuron"
   ]
  },
  {
   "cell_type": "code",
   "execution_count": null,
   "metadata": {
    "collapsed": false,
    "scrolled": false
   },
   "outputs": [],
   "source": [
    "#loc1 = \"/Volumes/Arch/Projects/Computational Anatomy/neuron_nmo/poorthuis/CNG version/060110-LII-III.CNG.swc\"\n",
    "loc1 = \"../Generative-Models-of-Neuron-Morphology/Data/Pyramidal/poorthuis/CNG version/060110-LV.CNG.swc\"\n",
    "loc2 = \"../Generative-Models-of-Neuron-Morphology/Data/Interneuron/allen cell types/CNG version/Pvalb-IRES-Cre-Ai14-475465561.CNG.swc\"\n",
    "pyramidal = McNeuron.Neuron(file_format = 'swc', input_file=loc1)\n",
    "inter = McNeuron.Neuron(file_format = 'swc', input_file=loc2)\n",
    "a = pyramidal.subsample(20.)\n",
    "McNeuron.visualize.plot_2D(a,show_radius=True)\n",
    "print len(a.nodes_list)\n",
    "a.show_features(15,17,30)"
   ]
  },
  {
   "cell_type": "code",
   "execution_count": null,
   "metadata": {
    "collapsed": false
   },
   "outputs": [],
   "source": [
    "btmorph3.visualize.plot_2D(inter,show_radius=False)"
   ]
  },
  {
   "cell_type": "code",
   "execution_count": null,
   "metadata": {
    "collapsed": false
   },
   "outputs": [],
   "source": [
    "len(inter.nodes_list)"
   ]
  },
  {
   "cell_type": "markdown",
   "metadata": {},
   "source": [
    "# Morphology of the neurons\n",
    "The first one is pyramidal neuron and second is interneuron"
   ]
  },
  {
   "cell_type": "code",
   "execution_count": null,
   "metadata": {
    "collapsed": false
   },
   "outputs": [],
   "source": [
    "ax1 = McNeuron.visualize.plot_2D(pyramidal, show_radius=False)\n",
    "ax2 = McNeuron.visualize.plot_2D(inter, show_radius=False)"
   ]
  },
  {
   "cell_type": "markdown",
   "metadata": {},
   "source": [
    "# Feature of interneuron"
   ]
  },
  {
   "cell_type": "code",
   "execution_count": null,
   "metadata": {
    "collapsed": false
   },
   "outputs": [],
   "source": [
    "inter.show_features(15,17,30)"
   ]
  },
  {
   "cell_type": "markdown",
   "metadata": {},
   "source": [
    "# Feature of Pyramidal"
   ]
  },
  {
   "cell_type": "code",
   "execution_count": null,
   "metadata": {
    "collapsed": false
   },
   "outputs": [],
   "source": [
    "pyramidal.show_features(15,17,50)"
   ]
  },
  {
   "cell_type": "markdown",
   "metadata": {},
   "source": [
    "# Sholl Diagram\n",
    "For given real number of $r$, we can calculate how many times a sphere with the radius $r$ with the center of the soma intersects with the neuron. Sholl diagram shows this number for differnt values of $r$.\n",
    "For the pyramidal neuron it usually has two bumps, which represents the basal and apical dendrites, versus interneuron which usually has one."
   ]
  },
  {
   "cell_type": "code",
   "execution_count": null,
   "metadata": {
    "collapsed": false
   },
   "outputs": [],
   "source": [
    "f,(ax1, ax2) = plt.subplots(1, 2)\n",
    "ax1.plot(pyramidal.sholl_r,pyramidal.sholl_n,'g')\n",
    "ax2.plot(inter.sholl_r,inter.sholl_n,'m')"
   ]
  },
  {
   "cell_type": "code",
   "execution_count": null,
   "metadata": {
    "collapsed": false
   },
   "outputs": [],
   "source": [
    "inter.features"
   ]
  },
  {
   "cell_type": "markdown",
   "metadata": {},
   "source": [
    "# histogram of diameters\n",
    "The histogram of the diameters of all compartments in the neuron"
   ]
  },
  {
   "cell_type": "code",
   "execution_count": null,
   "metadata": {
    "collapsed": false
   },
   "outputs": [],
   "source": [
    "f, (ax1, ax2) = plt.subplots(1, 2)\n",
    "a = pyramidal.diameter1\n",
    "b = pyramidal.distance_from_root\n",
    "c = ax1.hist(a[b>20],bins = 30,color = 'g')\n",
    "ax1.set_xlabel('diameter (um3)')\n",
    "ax1.set_ylabel('density')\n",
    "#ax1.set_title('Histogram of the size of compartments of neuron')\n",
    "\n",
    "a = inter.diameter\n",
    "b = inter.distance_from_root\n",
    "c = ax2.hist(a[b>20],bins = 15,color = 'm')\n",
    "ax2.set_xlabel('diameter (um3)')\n",
    "#ax2.set_ylabel('density')\n",
    "#ax2.set_title('Histogram of the size of compartments of neuron')"
   ]
  },
  {
   "cell_type": "code",
   "execution_count": null,
   "metadata": {
    "collapsed": false
   },
   "outputs": [],
   "source": [
    "a = inter.diameter\n",
    "b = inter.distance_from_root\n",
    "c = plt.hist(a[b>20],bins = 15,color = 'm')\n",
    "plt.xlabel('diameter (um3)')"
   ]
  },
  {
   "cell_type": "markdown",
   "metadata": {},
   "source": [
    "# Histogram of Slope of each segments\n",
    "By looking at the conneceted compartments, we can calculate the slope of the segment by dividing the diffrernce of radius and difference of the location. For many of them the slope is zero and we ignor them."
   ]
  },
  {
   "cell_type": "code",
   "execution_count": null,
   "metadata": {
    "collapsed": false
   },
   "outputs": [],
   "source": [
    "f, (ax1, ax2) = plt.subplots(1, 2)\n",
    "e = pyramidal.slope\n",
    "x = ax1.hist(e[e!=0],bins=40,color = 'g')\n",
    "ax1.set_xlabel('Value of Slope')\n",
    "ax1.set_ylabel('density')\n",
    "\n",
    "e = inter.slope\n",
    "x = ax2.hist(e[e!=0],bins=40,color = 'm')\n",
    "ax2.set_xlabel('Value of Slope')\n",
    "#ax2.set_ylabel('density')"
   ]
  },
  {
   "cell_type": "markdown",
   "metadata": {},
   "source": [
    "# Histogram of distance from soma\n",
    "For each compartments on the neuron, the distance from the soma are calculated and histogram of them are shown"
   ]
  },
  {
   "cell_type": "code",
   "execution_count": null,
   "metadata": {
    "collapsed": false
   },
   "outputs": [],
   "source": [
    "f, (ax1, ax2) = plt.subplots(1, 2)\n",
    "a = pyramidal.distance_from_root\n",
    "b = ax1.hist(a[~np.isnan(a)],bins = 50,color = 'g')\n",
    "ax1.set_xlabel('distance (um)')\n",
    "ax1.set_ylabel('density')\n",
    "#plt.title('Histogram of distance from soma for different compartments of neuron')\n",
    "\n",
    "a = inter.distance_from_root\n",
    "b = ax2.hist(a[~np.isnan(a)],bins = 50,color = 'm')\n",
    "ax2.set_xlabel('distance (um)')\n",
    "#ax2.set_ylabel('density')\n",
    "#plt.title('Histogram of distance from soma for different compartments of neuron')"
   ]
  },
  {
   "cell_type": "code",
   "execution_count": null,
   "metadata": {
    "collapsed": false
   },
   "outputs": [],
   "source": [
    "a = inter.distance_from_root\n",
    "b = plt.hist(a[~np.isnan(a)],bins = 50,color = 'm')\n",
    "plt.xlabel('distance (um)')"
   ]
  },
  {
   "cell_type": "markdown",
   "metadata": {},
   "source": [
    "# Local Angle\n",
    "Local angles are the angles between the vector with the starting point of one compartment and end point of its child, and the vector that connect it to $its$ $parent$. "
   ]
  },
  {
   "cell_type": "code",
   "execution_count": null,
   "metadata": {
    "collapsed": false
   },
   "outputs": [],
   "source": [
    "f, (ax1, ax2) = plt.subplots(1, 2)\n",
    "a = pyramidal.local_angle\n",
    "b = ax1.hist(a[~np.isnan(a)],bins = 50,color = 'g')\n",
    "ax1.set_xlabel('angle (radian)')\n",
    "ax1.set_ylabel('density')\n",
    "#plt.title('Histogram of local angles')\n",
    "a = inter.local_angle\n",
    "b = ax2.hist(a[~np.isnan(a)],bins = 50,color = 'm')\n",
    "ax2.set_xlabel('angle (radian)')\n",
    "#ax2.set_ylabel('density')"
   ]
  },
  {
   "cell_type": "code",
   "execution_count": null,
   "metadata": {
    "collapsed": false
   },
   "outputs": [],
   "source": [
    "a = inter.local_angle\n",
    "b = plt.hist(a[~np.isnan(a)],bins = 50,color = 'm')\n",
    "plt.xlabel('angle (radian)')"
   ]
  },
  {
   "cell_type": "markdown",
   "metadata": {},
   "source": [
    "# Global Angle\n",
    "Global angles are the angles between the vector with the starting point of one compartment and end point of its child, and the vector that connect it to $soma$. "
   ]
  },
  {
   "cell_type": "code",
   "execution_count": null,
   "metadata": {
    "collapsed": false
   },
   "outputs": [],
   "source": [
    "f, (ax1, ax2) = plt.subplots(1, 2)\n",
    "a = pyramidal.angle_global\n",
    "b = ax1.hist(a[~np.isnan(a)],bins = 50,color = 'g')\n",
    "ax1.set_xlabel('angle (radian)')\n",
    "ax1.set_ylabel('density')\n",
    "#plt.title('Histogram of global angles')\n",
    "\n",
    "a = inter.angle_global\n",
    "b = ax2.hist(a[~np.isnan(a)],bins = 50,color = 'm')\n",
    "ax2.set_xlabel('angle (radian)')"
   ]
  },
  {
   "cell_type": "code",
   "execution_count": null,
   "metadata": {
    "collapsed": false
   },
   "outputs": [],
   "source": [
    "a = inter.angle_global\n",
    "b = plt.hist(a[~np.isnan(a)],bins = 50,color = 'm')\n",
    "plt.xlabel('angle (radian)')"
   ]
  },
  {
   "cell_type": "markdown",
   "metadata": {},
   "source": [
    "# Angle at the branching point\n",
    "At each branching points in the neuron, we can cauculate the angles between two outward segments. Here we plot the histogram of them for different branching points."
   ]
  },
  {
   "cell_type": "code",
   "execution_count": null,
   "metadata": {
    "collapsed": false
   },
   "outputs": [],
   "source": [
    "f, (ax1, ax2) = plt.subplots(1, 2)\n",
    "a = pyramidal.angle_branch[0,:]\n",
    "b = ax1.hist(a[~np.isnan(a)],bins = 20,color = 'g')\n",
    "a = inter.angle_branch[0,:]\n",
    "b = ax2.hist(a[~np.isnan(a)],bins = 20,color = 'm')"
   ]
  },
  {
   "cell_type": "code",
   "execution_count": null,
   "metadata": {
    "collapsed": false
   },
   "outputs": [],
   "source": [
    "a = inter.angle_branch[0,:]\n",
    "b = plt.hist(a[~np.isnan(a)],bins = 10,color = 'm')"
   ]
  },
  {
   "cell_type": "markdown",
   "metadata": {},
   "source": [
    "# Rall Ratio\n",
    "The Rall ratio is defined by taking the ratio of the diameter^2/3 parent in branching point divided by sum of diameter^2/3 of its children."
   ]
  },
  {
   "cell_type": "code",
   "execution_count": null,
   "metadata": {
    "collapsed": false
   },
   "outputs": [],
   "source": [
    "f, (ax1, ax2) = plt.subplots(1, 2)\n",
    "a = pyramidal.rall_ratio\n",
    "b = ax1.hist(a[~np.isnan(a)],bins = 20,color = 'g')\n",
    "\n",
    "a = inter.rall_ratio\n",
    "b = ax2.hist(a[~np.isnan(a)],bins = 20,color = 'm')"
   ]
  },
  {
   "cell_type": "markdown",
   "metadata": {},
   "source": [
    "# Slope"
   ]
  },
  {
   "cell_type": "code",
   "execution_count": null,
   "metadata": {
    "collapsed": false
   },
   "outputs": [],
   "source": [
    "f, (ax1, ax2) = plt.subplots(1, 2)\n",
    "a = pyramidal.slope\n",
    "b = ax1.hist(a[~np.isnan(a)],bins = 40,color = 'g')\n",
    "\n",
    "a = inter.slope\n",
    "b = ax2.hist(a[~np.isnan(a)],bins = 40,color = 'm')"
   ]
  },
  {
   "cell_type": "code",
   "execution_count": null,
   "metadata": {
    "collapsed": false
   },
   "outputs": [],
   "source": [
    "a = inter.slope\n",
    "b = plt.hist(a[~np.isnan(a)],bins = 40,color = 'm')"
   ]
  },
  {
   "cell_type": "markdown",
   "metadata": {},
   "source": [
    "# distance from parent"
   ]
  },
  {
   "cell_type": "code",
   "execution_count": null,
   "metadata": {
    "collapsed": false
   },
   "outputs": [],
   "source": [
    "f, (ax1, ax2) = plt.subplots(1, 2)\n",
    "a = pyramidal.length_to_parent\n",
    "b = ax1.hist(a[~np.isnan(a)],bins = 40,color = 'g')\n",
    "\n",
    "a = inter.length_to_parent\n",
    "b = ax2.hist(a[~np.isnan(a)],bins = 40,color = 'm')"
   ]
  },
  {
   "cell_type": "code",
   "execution_count": null,
   "metadata": {
    "collapsed": false
   },
   "outputs": [],
   "source": [
    "a = inter.length_to_parent\n",
    "b = a[~np.isnan(a)]\n",
    "c = plt.hist(b[np.absolute(b)<4],bins = 70,color = 'm')"
   ]
  },
  {
   "cell_type": "code",
   "execution_count": null,
   "metadata": {
    "collapsed": false
   },
   "outputs": [],
   "source": [
    "np.absolute(b)<3"
   ]
  },
  {
   "cell_type": "markdown",
   "metadata": {},
   "source": [
    "# Ratio of neuronal distance over Euclidian distance from root"
   ]
  },
  {
   "cell_type": "code",
   "execution_count": null,
   "metadata": {
    "collapsed": false
   },
   "outputs": [],
   "source": [
    "f, (ax1, ax2) = plt.subplots(1, 2)\n",
    "ax1.hist(inter.overall_connectivity_matrix.sum(axis = 1)/inter.distance_from_root,bins = 40,color = 'g')\n",
    "ax2.hist(pyramidal.overall_connectivity_matrix.sum(axis = 1)/pyramidal.distance_from_root,bins = 40,color = 'g')"
   ]
  },
  {
   "cell_type": "code",
   "execution_count": null,
   "metadata": {
    "collapsed": false
   },
   "outputs": [],
   "source": [
    "plt.hist(inter.features['ratio_euclidian_neuronal'],bins = 40,color = 'g')"
   ]
  },
  {
   "cell_type": "markdown",
   "metadata": {},
   "source": [
    "# Connectivity matrix"
   ]
  },
  {
   "cell_type": "code",
   "execution_count": null,
   "metadata": {
    "collapsed": false,
    "scrolled": false
   },
   "outputs": [],
   "source": [
    "import matplotlib.pyplot as plt\n",
    "%matplotlib inline\n",
    "plt.imshow(inter.connection)\n",
    "plt.show()"
   ]
  },
  {
   "cell_type": "code",
   "execution_count": null,
   "metadata": {
    "collapsed": true
   },
   "outputs": [],
   "source": []
  }
 ],
 "metadata": {
  "kernelspec": {
   "display_name": "Python 2",
   "language": "python",
   "name": "python2"
  },
  "language_info": {
   "codemirror_mode": {
    "name": "ipython",
    "version": 2
   },
   "file_extension": ".py",
   "mimetype": "text/x-python",
   "name": "python",
   "nbconvert_exporter": "python",
   "pygments_lexer": "ipython2",
   "version": "2.7.12"
  }
 },
 "nbformat": 4,
 "nbformat_minor": 0
}
