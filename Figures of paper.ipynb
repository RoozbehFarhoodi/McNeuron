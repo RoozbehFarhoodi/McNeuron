{
 "cells": [
  {
   "cell_type": "markdown",
   "metadata": {},
   "source": [
    "# Fig1: Trivial MCMC"
   ]
  },
  {
   "cell_type": "code",
   "execution_count": null,
   "metadata": {
    "collapsed": false
   },
   "outputs": [],
   "source": [
    "import numpy as np\n",
    "import McNeuron\n",
    "import matplotlib.pyplot as plt\n",
    "from copy import deepcopy\n",
    "%matplotlib inline\n",
    "# buliding trivial neuron\n",
    "L = McNeuron.visualize.get_all_path(\"/Users/RoozbehFarhoudi/Documents/Repos/McNeuron/Data/Interneuron/allen cell types/CNG version/\")\n",
    "#L = \"/Users/RoozbehFarhoudi/Documents/Repos/McNeuron/Data/Interneuron/allen cell types/CNG version/Scnn1a-Tg3-Cre-Ai14-475124422.CNG.swc\"\n",
    "n = McNeuron.Neuron(file_format = 'swc', input_file=L[13])\n",
    "McNeuron.visualize.plot_2D(n)"
   ]
  },
  {
   "cell_type": "code",
   "execution_count": null,
   "metadata": {
    "collapsed": false
   },
   "outputs": [],
   "source": [
    "m = n.subsample_main_nodes()\n",
    "McNeuron.visualize.plot_2D(m,size=12)"
   ]
  },
  {
   "cell_type": "code",
   "execution_count": null,
   "metadata": {
    "collapsed": false,
    "scrolled": false
   },
   "outputs": [],
   "source": [
    "L = McNeuron.visualize.get_all_path(\"/Users/RoozbehFarhoudi/Documents/Repos/McNeuron/Data/Interneuron/allen cell types/CNG version/\")\n",
    "n = McNeuron.Neuron(file_format = 'swc', input_file=L[13])\n",
    "McNeuron.visualize.plot_2D(n)\n",
    "McNeuron.visualize.plot_dedrite_tree(n)"
   ]
  },
  {
   "cell_type": "code",
   "execution_count": null,
   "metadata": {
    "collapsed": false
   },
   "outputs": [],
   "source": [
    "np.random.normal()"
   ]
  },
  {
   "cell_type": "code",
   "execution_count": null,
   "metadata": {
    "collapsed": false,
    "scrolled": true
   },
   "outputs": [],
   "source": [
    "import numpy as np\n",
    "import McNeuron\n",
    "import matplotlib.pyplot as plt\n",
    "from copy import deepcopy\n",
    "%matplotlib inline\n",
    "#np.random.seed(0)\n",
    "L = McNeuron.visualize.get_all_path(\"/Volumes/Arch/Projects/Computational Anatomy/Pyramidal/\")\n",
    "Feature_neuron = McNeuron.Neuron(file_format = 'swc', input_file=L[1500])\n",
    "#inter2 = Inter2.subsample_given_n_node(400)\n",
    "feature_neuron = Feature_neuron.subsample_given_n_node(600)\n",
    "Start_neuron = McNeuron.Neuron(file_format = 'swc', input_file=L[1020])\n",
    "Start_neuron.location *= 9\n",
    "Start_neuron.set_nodes_values()\n",
    "Start_neuron = McNeuron.Neuron(file_format = 'only list of nodes', input_file = deepcopy(Start_neuron.nodes_list))\n",
    "start_neuron = Start_neuron.subsample_given_n_node(600)"
   ]
  },
  {
   "cell_type": "code",
   "execution_count": null,
   "metadata": {
    "collapsed": false
   },
   "outputs": [],
   "source": [
    "#p1 = McNeuron.visualize.plot_2D(start_neuron, dpi = 120, size = 5, show_width= False,  background = .01,line_width=2)\n",
    "#p2 = McNeuron.visualize.plot_2D(feature_neuron, dpi = 120, size = 5, show_width= False,  background = .01,line_width=2)"
   ]
  },
  {
   "cell_type": "markdown",
   "metadata": {},
   "source": [
    "# customize plot function (if necessary)"
   ]
  },
  {
   "cell_type": "code",
   "execution_count": null,
   "metadata": {
    "collapsed": false
   },
   "outputs": [],
   "source": [
    "from numpy import mean,cov,double,cumsum,dot,linalg,array,rank\n",
    "from pylab import plot,subplot,axis,stem,show,figure, Normalize\n",
    "import neuron\n",
    "import numpy as np\n",
    "import matplotlib.pyplot as plt\n",
    "from copy import deepcopy\n",
    "import pylab as pl\n",
    "import matplotlib\n",
    "from matplotlib import collections  as mc\n",
    "from matplotlib.patches import Circle, Wedge, Polygon\n",
    "from matplotlib.collections import PatchCollection\n",
    "def plot_2D(neuron, background = 1,\n",
    "            show_width = False,\n",
    "            show_depth = False,\n",
    "            size = 5,\n",
    "            dpi = 80,\n",
    "            line_width = 1,\n",
    "            show_soma = False,\n",
    "            give_image = False,\n",
    "            red_after = False,\n",
    "            node_red = 0,\n",
    "            translation = (0,0),\n",
    "            scale_on = False,\n",
    "            scale = (1,1),\n",
    "            save = []):\n",
    "    depth = neuron.location[2,:]\n",
    "    p = neuron.location[0:2,:]\n",
    "    if scale_on:\n",
    "        p[0,:] = scale[0] * (p[0,:]-min(p[0,:]))/(max(p[0,:]) - min(p[0,:]) )\n",
    "        p[1,:] = scale[1] * (p[1,:]-min(p[1,:]))/(max(p[1,:]) - min(p[1,:]) )\n",
    "    widths= neuron.diameter\n",
    "    #widths[0:3] = 0\n",
    "    m = min(depth)\n",
    "    M = max(depth)\n",
    "    depth =  background * ((depth - m)/(M-m))\n",
    "    colors = []\n",
    "    lines = []\n",
    "    patches = []\n",
    "\n",
    "    for i in range(neuron.n_soma):\n",
    "        x1 = neuron.location[0,i] + translation[0]\n",
    "        y1 = neuron.location[1,i] + translation[1]\n",
    "        r = widths[i]\n",
    "        circle = Circle((x1, y1), r, color = str(depth[i]), ec = 'none',fc = 'none')\n",
    "        patches.append(circle)\n",
    "\n",
    "    pa = PatchCollection(patches, cmap=matplotlib.cm.gray)\n",
    "    pa.set_array(depth[0]*np.zeros(neuron.n_soma))\n",
    "\n",
    "    for i in range(len(neuron.nodes_list)):\n",
    "        colors.append(str(depth[i]))\n",
    "        j = neuron.parent_index[i]\n",
    "        lines.append([(p[0,i] + translation[0],p[1,i] + translation[1]),(p[0,j] + translation[0],p[1,j] + translation[1])])\n",
    "        \n",
    "    if(show_width):\n",
    "        if(show_depth):\n",
    "            lc = mc.LineCollection(lines, colors=colors, linewidths = line_width*widths)\n",
    "        else:\n",
    "            lc = mc.LineCollection(lines, linewidths = line_width*widths)\n",
    "    else:\n",
    "        if(show_depth):\n",
    "            lc = mc.LineCollection(lines, colors=colors, linewidths = line_width)\n",
    "        else:\n",
    "            lc = mc.LineCollection(lines, linewidths = line_width, color = 'k')\n",
    "\n",
    "    if(give_image):     \n",
    "        if(red_after):\n",
    "            line1 = []\n",
    "            line2 = []\n",
    "            (I1,) = np.where(~np.isnan(neuron.connection[:,node_red]))\n",
    "            (I2,) = np.where(np.isnan(neuron.connection[:,node_red]))\n",
    "            for i in I1:\n",
    "                j = neuron.parent_index[i]\n",
    "                line1.append([(p[0,i],p[1,i]),(p[0,j],p[1,j])])\n",
    "                lc1 = mc.LineCollection(line1, linewidths = 2*line_width, color = 'r')\n",
    "            for i in I2:\n",
    "                j = neuron.parent_index[i]\n",
    "                line2.append([(p[0,i],p[1,i]),(p[0,j],p[1,j])])\n",
    "                lc2 = mc.LineCollection(line2, linewidths = line_width, color = 'k')  \n",
    "            return (lc1, lc2, (min(p[0,:]),max(p[0,:])), (min(p[1,:]),max(p[1,:])))\n",
    "        else:\n",
    "            return (lc, (min(p[0,:]),max(p[0,:])), (min(p[1,:]),max(p[1,:])))\n",
    "    else:\n",
    "        fig, ax = plt.subplots()\n",
    "        ax.add_collection(lc)\n",
    "        if(show_soma):\n",
    "            ax.add_collection(pa)\n",
    "        fig.set_size_inches([size + 1, size + 1])\n",
    "        fig.set_dpi(dpi)\n",
    "        plt.axis('off')\n",
    "        plt.xlim((min(p[0,:]),max(p[0,:])))\n",
    "        plt.ylim((min(p[1,:]),max(p[1,:])))\n",
    "        plt.draw()\n",
    "        if(len(save)!=0):\n",
    "            plt.savefig(save, format = \"eps\")\n"
   ]
  },
  {
   "cell_type": "markdown",
   "metadata": {},
   "source": [
    "# functions for NeuronCollection"
   ]
  },
  {
   "cell_type": "code",
   "execution_count": null,
   "metadata": {
    "collapsed": false,
    "scrolled": true
   },
   "outputs": [],
   "source": [
    "def get_features(neuron_data, all_range):\n",
    "    n = len(neuron_data)\n",
    "    set_feature = {}\n",
    "    K = all_range.keys()\n",
    "    for name in K:\n",
    "        F = np.zeros([n, all_range[name].shape[0] -1])\n",
    "        for i in range(n):\n",
    "            neuron = neuron_data[i]\n",
    "            a = neuron.features[name]\n",
    "            b = np.histogram(a[~np.isnan(a)],bins = all_range[name])\n",
    "            F[i,:] = b[0]\n",
    "        set_feature[name] = F\n",
    "    \n",
    "    return set_feature"
   ]
  },
  {
   "cell_type": "code",
   "execution_count": null,
   "metadata": {
    "collapsed": false,
    "scrolled": false
   },
   "outputs": [],
   "source": [
    "N = []\n",
    "L = McNeuron.visualize.get_all_path(\"/Volumes/Arch/Projects/Computational Anatomy/Pyramidal/\")\n",
    "#L = McNeuron.visualize.get_all_path(\"/Users/RoozbehFarhoudi/Documents/Repos/Generative-Models-of-Neuron-Morphology/Data/Interneuron/allen cell types/CNG version/\")\n",
    "for i in range(50):\n",
    "    Feature_neuron = McNeuron.Neuron(file_format = 'swc', input_file=L[1500+i])\n",
    "    N.append(Feature_neuron.subsample_given_n_node(600))\n",
    "    print i\n",
    "# plot_2D(feature_neuron, dpi = 120, size = 5, show_width= False, \n",
    "#         save = \"/Volumes/Arch/Dropbox/MCMC paper/pyramidal_chen_09\",\n",
    "#         show_depth = True, background = .01,line_width=2,\n",
    "        \n",
    "#        )"
   ]
  },
  {
   "cell_type": "code",
   "execution_count": null,
   "metadata": {
    "collapsed": false
   },
   "outputs": [],
   "source": [
    "all_range = {}\n",
    "all_range['global_angle'] = np.arange(0,np.pi,np.pi/60)\n",
    "all_range['local_angle'] = np.arange(0,np.pi,np.pi/60)\n",
    "all_range['ratio_euclidian_neuronal'] = np.arange(1,1.5,.01)\n",
    "all_range['distance_from_parent'] = np.arange(3,27,1)\n",
    "all_range['distance_from_root'] = np.arange(1,300,5)\n",
    "all_range['branch_angle'] = np.arange(0,np.pi,np.pi/40)\n",
    "all_range['curvature'] = np.arange(0,np.pi,np.pi/20)\n",
    "all_range['euclidian_important'] = np.arange(0,60,1)\n",
    "all_range['neural_important'] = np.arange(0,200,3)\n",
    "all_range['ratio_neural_euclidian_important'] = np.arange(1,1.5,.01)\n",
    "all_range['branch_angle_segment'] = np.arange(0,np.pi,np.pi/60)\n",
    "xlabel = {}\n",
    "xlabel['global_angle'] = 'angle (radian)'\n",
    "xlabel['local_angle'] = 'angle (radian)'\n",
    "xlabel['ratio_euclidian_neuronal'] = 'ratio'\n",
    "xlabel['distance_from_parent'] = 'distance (nm)'\n",
    "xlabel['distance_from_root'] = 'distance (nm)'\n",
    "xlabel['branch_angle'] = 'angle (radian)'\n",
    "xlabel['curvature'] = 'angle (radian)'\n",
    "xlabel['euclidian_important'] = 'distance (nm)'\n",
    "xlabel['neural_important'] = 'distance (nm)'\n",
    "xlabel['ratio_neural_euclidian_important'] = 'ratio'\n",
    "xlabel['branch_angle_segment'] = 'angle (radian)'\n",
    "ylabel = {}\n",
    "ylabel['global_angle'] = 'density'\n",
    "ylabel['local_angle'] = 'density'\n",
    "ylabel['ratio_euclidian_neuronal'] = 'density'\n",
    "ylabel['distance_from_parent'] = 'density'\n",
    "ylabel['distance_from_root'] = 'density'\n",
    "ylabel['branch_angle'] = 'density'\n",
    "ylabel['curvature'] = 'density'\n",
    "ylabel['euclidian_important'] = 'density'\n",
    "ylabel['neural_important'] = 'density'\n",
    "ylabel['ratio_neural_euclidian_important'] = 'density'\n",
    "ylabel['branch_angle_segment'] = 'density'\n",
    "title = {}\n",
    "title['global_angle'] = 'Histogram of Global Angles'\n",
    "title['local_angle'] = 'Histogram of Local Angles'\n",
    "title['ratio_euclidian_neuronal'] = 'Histogram of Euclidian over Neural Distance'\n",
    "title['distance_from_parent'] = 'Histogram of Distance from Parent of Nodes'\n",
    "title['distance_from_root'] = 'Histogram of Distance from Root of Nodes'\n",
    "title['branch_angle'] = 'Histogram of Branching nodes'\n",
    "title['curvature'] = 'Histogram of Curvature'\n",
    "title['euclidian_important'] = 'Histogram of Euclidan Length of Segments'\n",
    "title['neural_important'] = 'Histogram of Neural Length of Segment'\n",
    "title['ratio_neural_euclidian_important'] = 'Histogram of Euclidian over Neural Distance of Segments'\n",
    "title['branch_angle_segment'] = 'Histogram of Angles at Branching Segments'"
   ]
  },
  {
   "cell_type": "code",
   "execution_count": null,
   "metadata": {
    "collapsed": false
   },
   "outputs": [],
   "source": [
    "feature = get_features(N,all_range)"
   ]
  },
  {
   "cell_type": "code",
   "execution_count": null,
   "metadata": {
    "collapsed": true
   },
   "outputs": [],
   "source": [
    "m1 = np.zeros(len(N))\n",
    "m2 = np.zeros(len(N))\n",
    "m3 = np.zeros(len(N))\n",
    "for i in range(len(N)):\n",
    "    m1[i] = N[i].features['discrepancy_space']\n",
    "    m2[i] = N[i].features['Nbranch']\n",
    "    m3[i] = N[i].features['Nnode']\n",
    "\n",
    "x_pos = mean(m1)\n",
    "plt.bar(x_pos,\n",
    "        # using the data from the mean_values\n",
    "        mean_values, \n",
    "        # with a y-error lines set at variance\n",
    "        yerr=variance, \n",
    "        # aligned in the center\n",
    "        align='center',\n",
    "        # with color\n",
    "        color='#FFC222',\n",
    "        # alpha 0.5\n",
    "        alpha=0.5)\n",
    "\n",
    "# add a grid\n",
    "plt.grid()\n",
    "plt.show()"
   ]
  },
  {
   "cell_type": "code",
   "execution_count": null,
   "metadata": {
    "collapsed": false,
    "scrolled": true
   },
   "outputs": [],
   "source": [
    "from matplotlib.pyplot import cm \n",
    "I = feature.keys()\n",
    "c=cm.rainbow(np.linspace(0,1,len(I)))\n",
    "f, axs = plt.subplots(len(I),1)\n",
    "axs = axs.reshape(len(I))\n",
    "f.set_figheight(5.5*len(I))\n",
    "f.set_figwidth(8)\n",
    "f.set_dpi(400)\n",
    "for i in range(len(I)):\n",
    "    d = feature[I[i]]\n",
    "    m = np.mean(d/600,axis = 0)\n",
    "    std = np.std(d/600,axis = 0)\n",
    "    x = all_range[I[i]][1:]\n",
    "    axs[i].fill_between(x , y1 = m+std, y2 = m-std, alpha = .3, color = c[i])\n",
    "    axs[i].plot(x,m, color = c[i])\n",
    "    axs[i].set_title(title[I[i]])\n",
    "    axs[i].set_xlabel(xlabel[I[i]])\n",
    "    axs[i].set_ylabel(ylabel[I[i]])\n",
    "\n",
    "    #plt.savefig(\"/Volumes/Arch/Dropbox/MCMC paper\"+title[I[i]])"
   ]
  },
  {
   "cell_type": "code",
   "execution_count": null,
   "metadata": {
    "collapsed": false
   },
   "outputs": [],
   "source": [
    "plot_2D(Feature_neuron)"
   ]
  },
  {
   "cell_type": "code",
   "execution_count": null,
   "metadata": {
    "collapsed": false
   },
   "outputs": [],
   "source": [
    "Feature_neuron.features['branch_angle_segment']"
   ]
  },
  {
   "cell_type": "markdown",
   "metadata": {},
   "source": [
    "# Histogram of Features"
   ]
  },
  {
   "cell_type": "code",
   "execution_count": null,
   "metadata": {
    "collapsed": false,
    "scrolled": false
   },
   "outputs": [],
   "source": [
    "from matplotlib.pyplot import cm \n",
    "I = feature.keys()\n",
    "c=cm.rainbow(np.linspace(0,1,len(I)))\n",
    "f, axs = plt.subplots()\n",
    "f.set_figheight(5.5)\n",
    "f.set_figwidth(8)\n",
    "f.set_dpi(400)\n",
    "for i in range(len(I)):\n",
    "    d = feature[I[i]]\n",
    "    m = np.mean(d/600,axis = 0)\n",
    "    std = np.std(d/600,axis = 0)\n",
    "    x = all_range[I[i]][1:]\n",
    "    axs.fill_between(x , y1 = m+std, y2 = m-std, alpha = .3, color = c[i])\n",
    "    axs[i].plot(x,m, color = c[i])\n",
    "    axs[i].set_title(title[I[i]])\n",
    "    axs[i].set_xlabel(xlabel[I[i]])\n",
    "    axs[i].set_ylabel(ylabel[I[i]])\n",
    "    #plt.savefig(\"/Volumes/Arch/Dropbox/MCMC paper/\"+str(title[I[i]]))"
   ]
  },
  {
   "cell_type": "markdown",
   "metadata": {},
   "source": [
    "# Pipeline figure"
   ]
  },
  {
   "cell_type": "markdown",
   "metadata": {},
   "source": [
    "## Small figures of the neuron"
   ]
  },
  {
   "cell_type": "code",
   "execution_count": null,
   "metadata": {
    "collapsed": false
   },
   "outputs": [],
   "source": [
    "# from pylab import *\n",
    "# real_neuron_sample = 4\n",
    "# border = 0\n",
    "# length = .5\n",
    "# border_x = .01\n",
    "# border_y = .01\n",
    "# dpi = 300\n",
    "# # Sample of the data of pyramidal\n",
    "# L = McNeuron.visualize.get_all_path(\"/Volumes/Arch/Projects/Computational Anatomy/neuron_nmo/\")\n",
    "# f, ax = plt.subplots()\n",
    "# ax.set_axis_off()\n",
    "# golden = 1\n",
    "# for i in range(real_neuron_sample):\n",
    "#     Feature_neuron = McNeuron.Neuron(file_format = 'swc', input_file=L[1500+i])\n",
    "#     res1 = (length - (2 * real_neuron_sample+1) * border_x - 2*real_neuron_sample*border_x)/((1.+real_neuron_sample) * golden)\n",
    "#     x1 = (2*i+1)*border_x + 2*i*border_x+ golden*res1*i\n",
    "#     y1 =  1 - res1*golden  - border - 2*border_y\n",
    "#     x2 = res1*golden + 2*border_x\n",
    "#     y2 = res1 + 2*border_y\n",
    "#     rec1 = Rectangle((x1 , y1)\n",
    "#                      ,x2\n",
    "#                      ,y2\n",
    "#                     ,linewidth = res1\n",
    "#                  ,fill = False)  \n",
    "#     l = plot_2D(Feature_neuron, dpi = dpi, give_image=True,  line_width = .3*res1, scale_on = True, \n",
    "#                 scale = (res1*golden, res1), \n",
    "#                 translation=((2*i+2)*border_x + 2*i*border_x + golden*res1*i,1 - res1*golden - border_y - border))\n",
    "#     ax.text(x1+x2/2, y1+y2 + .005, \"Image 1\", fontsize=1)\n",
    "#     rec1.set_clip_on(False)\n",
    "#     rec1 = ax.add_patch(rec1) \n",
    "#     ax.add_collection(l[0])\n",
    "\n",
    "# length = .5\n",
    "# start_x = .5\n",
    "# for i in range(real_neuron_sample):\n",
    "#     Feature_neuron = McNeuron.Neuron(file_format = 'swc', input_file=L[1500+i])\n",
    "#     res1 = (length - (2 * real_neuron_sample+1) * border_x - 2*real_neuron_sample*border_x)/((1.+real_neuron_sample) * golden)\n",
    "#     x1 = (2*i+1)*border_x + 2*i*border_x+ golden*res1*i\n",
    "#     y1 =  1 - res1*golden  - border - 2*border_y\n",
    "#     x2 = res1*golden + 2*border_x\n",
    "#     y2 = res1 + 2*border_y\n",
    "#     rec1 = Rectangle((start_x+x1 , y1)\n",
    "#                      ,x2\n",
    "#                      ,y2\n",
    "#                     ,linewidth = res1\n",
    "#                  ,fill = False)  \n",
    "#     l = plot_2D(Feature_neuron, dpi = dpi, give_image=True,  line_width = .3*res1, scale_on = True, \n",
    "#                 scale = (res1*golden, res1), \n",
    "#                 translation=(start_x + (2*i+2)*border_x + 2*i*border_x + golden*res1*i,1 - res1*golden - border_y - border))\n",
    "#     ax.text(start_x + x1+x2/2, y1+y2 + .005, \"Image 1\", fontsize=1)\n",
    "#     rec1.set_clip_on(False)\n",
    "#     rec1 = ax.add_patch(rec1) \n",
    "#     ax.add_collection(l[0])\n",
    "\n",
    "\n",
    "\n",
    "# f.set_figheight(1)\n",
    "# f.set_figwidth(1)\n",
    "# #plt.savefig(\"/Volumes/Arch/Dropbox/MCMC paper/Pipeline_small_neurons\", dpi=2000)"
   ]
  },
  {
   "cell_type": "markdown",
   "metadata": {},
   "source": [
    "## aribitrary neuron"
   ]
  },
  {
   "cell_type": "code",
   "execution_count": null,
   "metadata": {
    "collapsed": false
   },
   "outputs": [],
   "source": [
    "from pylab import *\n",
    "f, ax = plt.subplots()\n",
    "ax.set_axis_off()\n",
    "Feature_neuron = McNeuron.Neuron(file_format = 'swc', input_file=L[2809])\n",
    "rec1 = Rectangle((0,0) ,1,1 ,linewidth = 1 ,fill = False) \n",
    "l = plot_2D(Feature_neuron, give_image=True,  line_width = .5, scale_on = True, \n",
    "            scale = (.96,.96), translation=(.02,.02))\n",
    "rec1.set_clip_on(False)\n",
    "rec1 = ax.add_patch(rec1) \n",
    "ax.add_collection(l[0])\n",
    "plt.savefig(\"/Volumes/Arch/Dropbox/MCMC paper/pipleline_generative_model_aribitray_neuron.eps\", format = \"eps\",dpi=900)"
   ]
  },
  {
   "cell_type": "markdown",
   "metadata": {},
   "source": [
    "## neuron from data"
   ]
  },
  {
   "cell_type": "code",
   "execution_count": null,
   "metadata": {
    "collapsed": false
   },
   "outputs": [],
   "source": [
    "from pylab import *\n",
    "f, ax = plt.subplots()\n",
    "ax.set_axis_off()\n",
    "Feature_neuron = McNeuron.Neuron(file_format = 'swc', input_file=L[2760])\n",
    "rec1 = Rectangle((0,0) ,1,1 ,linewidth = 1 ,fill = False) \n",
    "l = plot_2D(Feature_neuron, give_image=True,  line_width = 1, scale_on = True, \n",
    "            scale = (.96,.96), translation=(.02,.02))\n",
    "rec1.set_clip_on(False)\n",
    "rec1 = ax.add_patch(rec1) \n",
    "ax.add_collection(l[0])\n",
    "plt.savefig(\"/Volumes/Arch/Dropbox/MCMC paper/pipleline_generative_model_data2.eps\", format = 'eps', dpi=900)\n",
    "\n",
    "from pylab import *\n",
    "f, ax = plt.subplots()\n",
    "ax.set_axis_off()\n",
    "Feature_neuron = McNeuron.Neuron(file_format = 'swc', input_file=L[2710])\n",
    "rec1 = Rectangle((0,0) ,1,1 ,linewidth = 1 ,fill = False) \n",
    "l = plot_2D(Feature_neuron, give_image=True,  line_width = 1, scale_on = True, \n",
    "            scale = (.96,.96), translation=(.02,.02))\n",
    "rec1.set_clip_on(False)\n",
    "rec1 = ax.add_patch(rec1) \n",
    "ax.add_collection(l[0])\n",
    "plt.savefig(\"/Volumes/Arch/Dropbox/MCMC paper/pipleline_generative_model_data1.eps\", format = 'eps', dpi=900)"
   ]
  },
  {
   "cell_type": "markdown",
   "metadata": {},
   "source": [
    "## diagram of features for real data"
   ]
  },
  {
   "cell_type": "code",
   "execution_count": null,
   "metadata": {
    "collapsed": false,
    "scrolled": true
   },
   "outputs": [],
   "source": [
    "from matplotlib.pyplot import cm \n",
    "feature = get_features(N,all_range)\n",
    "I = feature.keys()\n",
    "c=cm.rainbow(np.linspace(0,1,len(I)))\n",
    "c[7] = c[10]\n",
    "for i in range(len(I)):\n",
    "    f, axs = plt.subplots()\n",
    "    f.set_figheight(5.5)\n",
    "    f.set_figwidth(8)\n",
    "    f.set_dpi(400)\n",
    "    d = feature[I[i]]\n",
    "    m = np.mean(d/600,axis = 0)\n",
    "    std = np.std(d/600,axis = 0)\n",
    "    x = all_range[I[i]][1:]\n",
    "    axs.fill_between(x , y1 = m+std, y2 = m-std, alpha = .1, color = c[i])\n",
    "    axs.plot(x,m, color = c[i])\n",
    "    axs.spines['right'].set_visible(False)\n",
    "    axs.spines['top'].set_visible(False)\n",
    "    axs.xaxis.set_ticks_position('bottom')\n",
    "    axs.yaxis.set_ticks_position('left')\n",
    "    #axs.set_title(title[I[i]], fontsize = 15)\n",
    "    #axs.set_xlabel(xlabel[I[i]], fontsize = 15)\n",
    "    #axs.set_ylabel(ylabel[I[i]], fontsize = 15)\n",
    "    plt.savefig(\"/Volumes/Arch/Dropbox/MCMC paper/pipleline_generative_model_\"+\"real_data\"+str(title[I[i]])+\".eps\", format='eps')"
   ]
  },
  {
   "cell_type": "code",
   "execution_count": null,
   "metadata": {
    "collapsed": false,
    "scrolled": true
   },
   "outputs": [],
   "source": [
    "from matplotlib.pyplot import cm \n",
    "feature1 = get_features([McNeuron.Neuron(file_format = 'swc', input_file=L[2809])],all_range)\n",
    "I = feature1.keys()\n",
    "c=cm.rainbow(np.linspace(0,1,len(I)))\n",
    "c[7] = c[10]\n",
    "for i in range(len(I)):\n",
    "    f, axs = plt.subplots()\n",
    "    f.set_figheight(5.5)\n",
    "    f.set_figwidth(8)\n",
    "    f.set_dpi(400)\n",
    "    d = feature1[I[i]]\n",
    "    m = np.mean(d/600,axis = 0)\n",
    "    std = np.std(d/1500,axis = 0)\n",
    "    x = all_range[I[i]][1:]\n",
    "    axs.fill_between(x , y1 = m+std, y2 = m-std, alpha = .1, color = 'k')\n",
    "    axs.plot(x,m, color = 'k')\n",
    "    axs.spines['right'].set_visible(False)\n",
    "    axs.spines['top'].set_visible(False)\n",
    "    axs.xaxis.set_ticks_position('bottom')\n",
    "    axs.yaxis.set_ticks_position('left')\n",
    "    #axs.set_title(title[I[i]], fontsize = 15)\n",
    "    #axs.set_xlabel(xlabel[I[i]], fontsize = 15)\n",
    "    #axs.set_ylabel(ylabel[I[i]], fontsize = 15)\n",
    "    plt.savefig(\"/Volumes/Arch/Dropbox/MCMC paper/pipleline_generative_model_\"+\"aribitrary_neuron\"+str(title[I[i]])+\".eps\", format='eps', dpi = 400)"
   ]
  },
  {
   "cell_type": "code",
   "execution_count": null,
   "metadata": {
    "collapsed": false,
    "scrolled": true
   },
   "outputs": [],
   "source": [
    "from matplotlib.pyplot import cm \n",
    "feature1 = get_features([McNeuron.Neuron(file_format = 'swc', input_file=L[2809])],all_range)\n",
    "feature2 = get_features(N,all_range)\n",
    "I = feature1.keys()\n",
    "c=cm.rainbow(np.linspace(0,1,len(I)))\n",
    "c[7] = c[10]\n",
    "for i in range(len(I)):\n",
    "    f, axs = plt.subplots()\n",
    "    f.set_figheight(5.5)\n",
    "    f.set_figwidth(8)\n",
    "    f.set_dpi(400)\n",
    "    d = feature1[I[i]]\n",
    "    m = np.mean(d/600,axis = 0)\n",
    "    std = np.std(d/1500,axis = 0)\n",
    "    x = all_range[I[i]][1:]\n",
    "    axs.fill_between(x , y1 = m+std, y2 = m-std, alpha = .1, color = 'k')\n",
    "    axs.plot(x,m, color = 'k')\n",
    "    \n",
    "    d = feature2[I[i]]\n",
    "    m = np.mean(d/600,axis = 0)\n",
    "    std = np.std(d/600,axis = 0)\n",
    "    x = all_range[I[i]][1:]\n",
    "    axs.fill_between(x , y1 = m+std, y2 = m-std, alpha = .1, color = c[i])\n",
    "    axs.plot(x,m, color = c[i])\n",
    "    \n",
    "    axs.spines['right'].set_visible(False)\n",
    "    axs.spines['top'].set_visible(False)\n",
    "    axs.xaxis.set_ticks_position('bottom')\n",
    "    axs.yaxis.set_ticks_position('left')\n",
    "    #axs.set_title(title[I[i]], fontsize = 15)\n",
    "    #axs.set_xlabel(xlabel[I[i]], fontsize = 15)\n",
    "    #axs.set_ylabel(ylabel[I[i]], fontsize = 15)\n",
    "    plt.savefig(\"/Volumes/Arch/Dropbox/MCMC paper/pipleline_generative_model_\"+\"overall\"+str(title[I[i]])+\".eps\", format='eps', dpi = 400)"
   ]
  },
  {
   "cell_type": "markdown",
   "metadata": {},
   "source": [
    "# pipeline mcmc"
   ]
  },
  {
   "cell_type": "markdown",
   "metadata": {},
   "source": [
    "## sample neuron"
   ]
  },
  {
   "cell_type": "code",
   "execution_count": null,
   "metadata": {
    "collapsed": false
   },
   "outputs": [],
   "source": [
    "import numpy as np\n",
    "import McNeuron\n",
    "import matplotlib.pyplot as plt\n",
    "from copy import deepcopy\n",
    "%matplotlib inline\n",
    "L = McNeuron.visualize.get_all_path(\"/Volumes/Arch/Projects/Computational Anatomy/neuron_nmo/\")\n",
    "Neuron = McNeuron.Neuron(file_format = 'swc', input_file=L[676])\n",
    "plot_2D(Feature_neuron, save = \"/Volumes/Arch/Dropbox/MCMC paper/pipeline_mcmc_neuron.eps\")"
   ]
  },
  {
   "cell_type": "code",
   "execution_count": null,
   "metadata": {
    "collapsed": false
   },
   "outputs": [],
   "source": [
    "neuron = deepcopy(Neuron)\n",
    "matrix = np.eye(3)\n",
    "t = -1\n",
    "matrix[0:2,0:2] = np.array([[np.cos(t), -np.sin(t)],[np.sin(t), np.cos(t)]])\n",
    "node = neuron.get_random_no_soma_node()\n",
    "inde = neuron.get_index_for_no_soma_node(node)\n",
    "inde = 4\n",
    "node = neuron.nodes_list[inde]\n",
    "neuron.rotate(node, matrix)\n",
    "start = inde\n",
    "l = plot_2D(neuron, line_width = line_width, save = \"/Volumes/Arch/Dropbox/MCMC paper/pipeline_mcmc_neuron_afterperturbation.eps\")"
   ]
  },
  {
   "cell_type": "code",
   "execution_count": null,
   "metadata": {
    "collapsed": false
   },
   "outputs": [],
   "source": [
    "np.random.sample(2)"
   ]
  },
  {
   "cell_type": "markdown",
   "metadata": {},
   "source": [
    "# Generated Neurons"
   ]
  },
  {
   "cell_type": "code",
   "execution_count": null,
   "metadata": {
    "collapsed": false
   },
   "outputs": [],
   "source": [
    "import numpy as np\n",
    "import McNeuron\n",
    "import matplotlib.pyplot as plt\n",
    "from copy import deepcopy\n",
    "%matplotlib inline\n",
    "L = McNeuron.visualize.get_all_path(\"/Volumes/Arch/Projects/Computational Anatomy/Pyramidal/\")\n",
    "Feature_neuron = McNeuron.Neuron(file_format = 'swc', input_file=L[1500])\n",
    "feature_neuron = Feature_neuron.subsample_given_n_node(600)\n",
    "Start_neuron = McNeuron.Neuron(file_format = 'swc', input_file=L[1020])\n",
    "Start_neuron.location *= 9\n",
    "Start_neuron.set_nodes_values()\n",
    "Start_neuron = McNeuron.Neuron(file_format = 'only list of nodes', input_file = deepcopy(Start_neuron.nodes_list))\n",
    "start_neuron = Start_neuron.subsample_given_n_node(600)"
   ]
  },
  {
   "cell_type": "code",
   "execution_count": null,
   "metadata": {
    "collapsed": true
   },
   "outputs": [],
   "source": [
    "loc2 = \"../Generative-Models-of-Neuron-Morphology/Data/Interneuron/allen cell types/CNG version/Pvalb-IRES-Cre-Ai14-475124495.CNG.swc\"\n",
    "loc3 = \"../Generative-Models-of-Neuron-Morphology/Data/Interneuron/allen cell types/CNG version/Scnn1a-Tg2-Cre-Ai14-475464642.CNG.swc\"\n",
    "loc4 = \"../Generative-Models-of-Neuron-Morphology/Data/Interneuron/allen cell types/CNG version/Pvalb-IRES-Cre-Ai14-396782215.CNG.swc\"\n",
    "Inter2 = McNeuron.Neuron(file_format = 'swc', input_file=loc2)\n",
    "Inter3 = McNeuron.Neuron(file_format = 'swc', input_file=loc3)\n",
    "Inter4 = McNeuron.Neuron(file_format = 'swc', input_file=loc4)\n",
    "inter2 = Inter2.subsample_given_n_node(400)\n",
    "inter3 = Inter3.subsample_given_n_node(400)\n",
    "inter4 = Inter4.subsample_given_n_node(400)"
   ]
  },
  {
   "cell_type": "code",
   "execution_count": null,
   "metadata": {
    "collapsed": false,
    "scrolled": false
   },
   "outputs": [],
   "source": [
    "McNeuron.visualize.plot_2D(inter2, dpi = 120, size = 5, show_width= False,  background = .01,line_width=2)\n",
    "start_neuron.show_features(15,17,50)\n",
    "McNeuron.visualize.plot_2D(inter3, dpi = 120, size = 5, show_width= False,  background = .01,line_width=2)\n",
    "feature_neuron.show_features(15,17,50)"
   ]
  },
  {
   "cell_type": "code",
   "execution_count": null,
   "metadata": {
    "collapsed": false
   },
   "outputs": [],
   "source": [
    "McNeuron.visualize.plot_2D(inter2,save = \"/Volumes/Arch/Dropbox/MCMC paper/inter_feature.eps\")"
   ]
  },
  {
   "cell_type": "code",
   "execution_count": null,
   "metadata": {
    "collapsed": false,
    "scrolled": false
   },
   "outputs": [],
   "source": [
    "#per = McNeuron.MCMC(neuron=deepcopy(start_neuron), iterations = 10000,verbose=0)\n",
    "per = McNeuron.MCMC(neuron=deepcopy(inter3), iterations = 4000,verbose=0)\n",
    "M = {'hist_range': {\n",
    "    'Nbranch': np.array([1]),\n",
    "    'branch_angle': np.arange(0,np.pi,np.pi/10),\n",
    "    'distance_from_root': np.append(np.arange(1,1500,3),2000),\n",
    "    'global_angle': np.arange(0,np.pi,np.pi/20),\n",
    "    'distance_from_parent': np.append(np.arange(5,35,2),50),\n",
    "    'local_angle': np.arange(0,np.pi,np.pi/20),\n",
    "    'initial_segments': np.array([1]),\n",
    "    'discrepancy_space': np.array([1]),\n",
    "    'curvature' : np.arange(0,np.pi,np.pi/20),\n",
    "    'ratio_euclidian_neuronal': np.append(np.arange(1,3,.01),np.arange(3,40,3)),\n",
    "    'neural_important' : np.arange(0,600,10),\n",
    "    'ratio_neural_euclidian_important' : np.arange(1,3,.01)\n",
    "    },\n",
    "    'hist_variance': {\n",
    "    'Nbranch': 5,\n",
    "    'branch_angle': 3,\n",
    "    'distance_from_root': .02,\n",
    "    'global_angle': .5,\n",
    "    'distance_from_parent': 5,\n",
    "    'local_angle': .3,\n",
    "    'initial_segments': 1,\n",
    "    'discrepancy_space': 1,\n",
    "    'curvature' : 5,\n",
    "    'ratio_euclidian_neuronal': .1 ,\n",
    "    'neural_important' : 1,\n",
    "    'ratio_neural_euclidian_important' : .1      \n",
    "    }}\n",
    "\n",
    "L_prob = {\n",
    "     'extension/reduction': 0.,\n",
    "     'extension/reduction end points': 0.,\n",
    "     'add/remove' : 0.,\n",
    "     'rescale toward end' : 0,\n",
    "     'diameter' : 0.,\n",
    "     'diameter_toward' : 0. ,\n",
    "     'rotation for any node' : 0.02,\n",
    "     'rotation for branching' : 0.3,\n",
    "     'location toward end' : 0,\n",
    "     'location' : 0,\n",
    "     'location for important point' : .5,\n",
    "     'sliding general' : 0,\n",
    "     'sliding certain in distance' : .1,\n",
    "     'sliding for branching node' : 0,\n",
    "     'sliding for branching node certain distance' : .4,\n",
    "     'stretching vertical' : .2,\n",
    "     'stretching horizental' : .2}\n",
    "\n",
    "per.kappa_rotation = 50.\n",
    "per.set_ratio_red_to_ext(.1)\n",
    "per.rescale_value = 0\n",
    "per.sliding_limit = 500.\n",
    "per.horizental_stretch = .1\n",
    "per.vertical_stretch = .1\n",
    "per.location_toward_cte = .5\n",
    "#per.set_real_neuron(feature_neuron,M)\n",
    "per.set_real_neuron(inter2,M)\n",
    "per.set_probability(L_prob)\n",
    "per.fit()\n",
    "gen = per.neuron\n",
    "McNeuron.visualize.plot_2D(gen,dpi = 120, line_width=2,size = 6);\n",
    "per.show_MCMC(1,14,6)\n",
    "per.neuron.show_features(15,17,20)"
   ]
  },
  {
   "cell_type": "code",
   "execution_count": null,
   "metadata": {
    "collapsed": true
   },
   "outputs": [],
   "source": [
    "McNeuron.visualize.plot_2D(feature_neuron)"
   ]
  },
  {
   "cell_type": "markdown",
   "metadata": {},
   "source": [
    "# Interneuron"
   ]
  },
  {
   "cell_type": "code",
   "execution_count": null,
   "metadata": {
    "collapsed": false
   },
   "outputs": [],
   "source": [
    "\n",
    "per = McNeuron.MCMC(neuron=deepcopy(inter3), iterations = 10000,verbose=0)\n",
    "M = {'hist_range': {\n",
    "    'Nbranch': np.array([1]),\n",
    "    'branch_angle': np.arange(0,np.pi,np.pi/10),\n",
    "    'distance_from_root': np.append(np.arange(1,1500,3),2000),\n",
    "    'global_angle': np.arange(0,np.pi,np.pi/20),\n",
    "    'distance_from_parent': np.append(np.arange(5,35,2),50),\n",
    "    'local_angle': np.arange(0,np.pi,np.pi/20),\n",
    "    'initial_segments': np.array([1]),\n",
    "    'discrepancy_space': np.array([1]),\n",
    "    'curvature' : np.arange(0,np.pi,np.pi/20),\n",
    "    'ratio_euclidian_neuronal': np.append(np.arange(1,3,.01),np.arange(3,40,3)),\n",
    "    'neural_important' : np.arange(0,600,10),\n",
    "    'ratio_neural_euclidian_important' : np.arange(1,3,.01)\n",
    "    },\n",
    "    'hist_variance': {\n",
    "    'Nbranch': 5,\n",
    "    'branch_angle': 3,\n",
    "    'distance_from_root': .02,\n",
    "    'global_angle': .5,\n",
    "    'distance_from_parent': 5,\n",
    "    'local_angle': .3,\n",
    "    'initial_segments': 1,\n",
    "    'discrepancy_space': 1,\n",
    "    'curvature' : 1,\n",
    "    'ratio_euclidian_neuronal': .1 ,\n",
    "    'neural_important' : 1,\n",
    "    'ratio_neural_euclidian_important' : .1      \n",
    "    }}\n",
    "L_prob = {\n",
    "     'extension/reduction': 0.,\n",
    "     'extension/reduction end points': 0.,\n",
    "     'add/remove' : 0.,\n",
    "     'rescale toward end' : 0,\n",
    "     'diameter' : 0.,\n",
    "     'diameter_toward' : 0. ,\n",
    "     'rotation for any node' : 0.1,\n",
    "     'rotation for branching' : .2,\n",
    "     'location toward end' : 0,\n",
    "     'location' : 0,\n",
    "     'sliding general' : 0.01,\n",
    "     'sliding certain in distance' : .2,\n",
    "     'sliding for branching node' : 0.05,\n",
    "     'stretching vertical' : .2,\n",
    "     'stretching horizental' : .2}\n",
    "\n",
    "per.kappa_rotation = 400.\n",
    "per.set_ratio_red_to_ext(.1)\n",
    "per.rescale_value = 0\n",
    "per.sliding_limit = 650.\n",
    "per.horizental_stretch = .1\n",
    "per.vertical_stretch = .1\n",
    "per.location_toward_cte = .5\n",
    "per.location_important = 5.\n",
    "per.set_real_neuron(inter2,M)\n",
    "per.set_probability(L_prob)\n",
    "per.fit()\n",
    "gen = per.neuron\n",
    "McNeuron.visualize.plot_2D(gen,dpi = 120, line_width=2,size = 6);\n",
    "per.show_MCMC(1,14,6)\n",
    "per.neuron.show_features(15,17,20)"
   ]
  },
  {
   "cell_type": "code",
   "execution_count": null,
   "metadata": {
    "collapsed": false
   },
   "outputs": [],
   "source": [
    "plt.plot(per.trend_normal[5,:])\n",
    "plt.savefig(\"/Volumes/Arch/Dropbox/MCMC paper/trend_normal_3.eps\")"
   ]
  },
  {
   "cell_type": "code",
   "execution_count": null,
   "metadata": {
    "collapsed": false
   },
   "outputs": [],
   "source": [
    "McNeuron.visualize.plot_2D(per.neuron, background = 1, show_width = False, show_depth = False , size = 8, dpi = 300,\n",
    "            line_width = 2.5,\n",
    "           save = \"/Volumes/Arch/Dropbox/MCMC paper/result_generated_inter.eps\")"
   ]
  },
  {
   "cell_type": "code",
   "execution_count": null,
   "metadata": {
    "collapsed": false
   },
   "outputs": [],
   "source": [
    "sum(per.neuron.branch_order ==2)"
   ]
  },
  {
   "cell_type": "markdown",
   "metadata": {},
   "source": [
    "# Set of MCMC"
   ]
  },
  {
   "cell_type": "markdown",
   "metadata": {},
   "source": [
    "## select the neuron"
   ]
  },
  {
   "cell_type": "code",
   "execution_count": null,
   "metadata": {
    "collapsed": false
   },
   "outputs": [],
   "source": [
    "import numpy as np\n",
    "import McNeuron\n",
    "import matplotlib.pyplot as plt\n",
    "from copy import deepcopy\n",
    "%matplotlib inline\n",
    "L = McNeuron.visualize.get_all_path(\"/Volumes/Arch/Projects/Computational Anatomy/neuron_nmo/\")\n",
    "Feature_neuron = McNeuron.Neuron(file_format = 'swc', input_file=L[676])\n",
    "plot_2D(Feature_neuron)"
   ]
  },
  {
   "cell_type": "markdown",
   "metadata": {},
   "source": [
    "## put all the perturbation beside of each other"
   ]
  },
  {
   "cell_type": "code",
   "execution_count": null,
   "metadata": {
    "collapsed": false,
    "scrolled": false
   },
   "outputs": [],
   "source": [
    "Neuron = Feature_neuron\n",
    "f, ax = plt.subplots(3,3)\n",
    "f.set_figheight(18)\n",
    "f.set_figwidth(15)\n",
    "f.set_dpi(400)\n",
    "line_width = 1.5\n",
    "# draw initial neuron\n",
    "l = plot_2D(deepcopy(Neuron), give_image=True, line_width = 2*line_width)\n",
    "ax[1,1].add_collection(l[0])\n",
    "ax[1,1].set_xlim(l[1])\n",
    "ax[1,1].set_ylim(l[2])\n",
    "ax[1,1].set_axis_off()\n",
    "#ax[1,1].set_title(\"Initial neuron\")\n",
    "\n",
    "# stretching horizental\n",
    "neuron = deepcopy(Neuron)\n",
    "(branch_index,)  = np.where(neuron.branch_order==2)\n",
    "(end_nodes,)  = np.where(neuron.branch_order==0)\n",
    "nodes = np.append(branch_index,end_nodes)\n",
    "parents = neuron.parent_index_for_node_subset(nodes)\n",
    "n = 16\n",
    "p = 2.5\n",
    "node_index = nodes[n]\n",
    "parent_index = parents[n]\n",
    "neuron.horizental_stretch(node_index, parent_index, p)\n",
    "start = neuron.child_index[0,parents[n]]\n",
    "l = plot_2D(neuron, give_image=True, red_after=True, node_red = start, line_width = line_width)\n",
    "ax[0,0].add_collection(l[0])\n",
    "ax[0,0].add_collection(l[1])\n",
    "ax[0,0].set_xlim(l[2])\n",
    "ax[0,0].set_ylim(l[3])\n",
    "ax[0,0].set_axis_off()\n",
    "#ax[0,0].arrow(l[2][1],l[3][0] ,  -20,  20, head_width=5, head_length=5, fc='k', ec='k')\n",
    "#ax[0,0].set_title(\"stretching horizental\")\n",
    "\n",
    "# vertical_stretching\n",
    "neuron = deepcopy(Neuron)\n",
    "(branch_index,)  = np.where(neuron.branch_order==2)\n",
    "(end_nodes,)  = np.where(neuron.branch_order==0)\n",
    "nodes = np.append(branch_index,end_nodes)\n",
    "parents = neuron.parent_index_for_node_subset(nodes)\n",
    "n = 16\n",
    "p = 1.6\n",
    "node_index = nodes[n]\n",
    "parent_index = parents[n]\n",
    "neuron.vertical_stretch(node_index, parent_index, p)\n",
    "start = neuron.child_index[0,parents[n]]\n",
    "l = plot_2D(neuron, give_image=True, red_after=True, node_red = start, line_width = line_width)\n",
    "ax[0,1].add_collection(l[0])\n",
    "ax[0,1].add_collection(l[1])\n",
    "ax[0,1].set_xlim(l[2])\n",
    "ax[0,1].set_ylim(l[3])\n",
    "ax[0,1].set_axis_off()\n",
    "#ax[0,1].set_title(\"vertical stretching\")\n",
    "\n",
    "# sliding for branching node\n",
    "neuron = deepcopy(Neuron)\n",
    "branch_node = neuron.get_random_branching_node()\n",
    "child = branch_node.children[0]\n",
    "child_of_branching_node_index = neuron.get_index_for_no_soma_node(child)\n",
    "(I,) = np.where(~ np.isnan(neuron.connection[:, child_of_branching_node_index]))\n",
    "I = np.append(I, neuron.get_index_for_no_soma_node(branch_node))\n",
    "order_one_node = neuron.get_random_order_one_node_not_in_certain_index(I)\n",
    "order_one_node_index = neuron.get_index_for_no_soma_node(order_one_node)\n",
    "child_of_branching_node_index = 122\n",
    "order_one_node_index = 42\n",
    "neuron.slide(child_of_branching_node_index, order_one_node_index)\n",
    "start = neuron.child_index[1,order_one_node_index]\n",
    "l = plot_2D(neuron, give_image=True, red_after=True, node_red = start, line_width = line_width)\n",
    "ax[0,2].add_collection(l[0])\n",
    "ax[0,2].add_collection(l[1])\n",
    "ax[0,2].set_xlim(l[2])\n",
    "ax[0,2].set_ylim(l[3])\n",
    "ax[0,2].set_axis_off()\n",
    "#ax[0,2].set_title(\"sliding for branching node\")\n",
    "\n",
    "# sliding general\n",
    "neuron = deepcopy(Neuron)\n",
    "cutting_node = neuron.get_random_no_soma_node()\n",
    "cutting_node_index = neuron.get_index_for_no_soma_node(cutting_node)\n",
    "(I,) = np.where(~ np.isnan(neuron.connection[:, cutting_node_index]))\n",
    "attaching_node = neuron.get_random_non_branch_node_not_in_certain_index(I)\n",
    "attaching_node_index = neuron.get_index_for_no_soma_node(attaching_node)\n",
    "cutting_node_index = 99\n",
    "attaching_node_index = 218\n",
    "neuron.slide(cutting_node_index, attaching_node_index)\n",
    "#print cutting_node_index\n",
    "#print attaching_node_index\n",
    "start = neuron.child_index[1,attaching_node_index]\n",
    "l = plot_2D(neuron, give_image=True, red_after=True, node_red = start, line_width = line_width)\n",
    "ax[1,0].add_collection(l[0])\n",
    "ax[1,0].add_collection(l[1])\n",
    "ax[1,0].set_xlim(l[2])\n",
    "ax[1,0].set_ylim(l[3])\n",
    "ax[1,0].set_axis_off()\n",
    "#ax[1,0].set_title(\"sliding general\")\n",
    "\n",
    "# location toward end\n",
    "neuron = deepcopy(Neuron)\n",
    "index = neuron.choose_random_node_index()\n",
    "displace = np.array([-10,-10,3])\n",
    "index = 76\n",
    "neuron.change_location_toward_end_nodes(index,displace)\n",
    "start = index\n",
    "l = plot_2D(neuron, give_image=True, red_after=True, node_red = start, line_width = line_width)\n",
    "ax[1,2].add_collection(l[0])\n",
    "ax[1,2].add_collection(l[1])\n",
    "ax[1,2].set_xlim(l[2])\n",
    "ax[1,2].set_ylim(l[3])\n",
    "ax[1,2].set_axis_off()\n",
    "#ax[1,2].set_title(\"location toward end\")\n",
    "\n",
    "# rotation for branching\n",
    "neuron = deepcopy(Neuron)\n",
    "node = neuron.get_random_branching_node()\n",
    "inde = neuron.get_index_for_no_soma_node(node)\n",
    "#print inde\n",
    "inde = 76\n",
    "node = neuron.nodes_list[inde]\n",
    "node = node.children[0]\n",
    "matrix = np.eye(3)\n",
    "t = 1\n",
    "matrix[0:2,0:2] = np.array([[np.cos(t), -np.sin(t)],[np.sin(t), np.cos(t)]])\n",
    "neuron.rotate_from_branch(node, matrix)\n",
    "start = neuron.child_index[0,inde]\n",
    "l = plot_2D(neuron, give_image=True, red_after=True, node_red = start, line_width = line_width)\n",
    "ax[2,0].add_collection(l[0])\n",
    "ax[2,0].add_collection(l[1])\n",
    "ax[2,0].set_xlim(l[2])\n",
    "ax[2,0].set_ylim(l[3])\n",
    "ax[2,0].set_axis_off()\n",
    "#ax[2,0].set_title(\"rotation for branching\")\n",
    "\n",
    "# rotation for any node\n",
    "neuron = deepcopy(Neuron)\n",
    "matrix = np.eye(3)\n",
    "t = -1\n",
    "matrix[0:2,0:2] = np.array([[np.cos(t), -np.sin(t)],[np.sin(t), np.cos(t)]])\n",
    "node = neuron.get_random_no_soma_node()\n",
    "inde = neuron.get_index_for_no_soma_node(node)\n",
    "#print inde\n",
    "inde = 4\n",
    "node = neuron.nodes_list[inde]\n",
    "neuron.rotate(node, matrix)\n",
    "start = inde\n",
    "l = plot_2D(neuron, give_image=True, red_after=True, node_red = start, line_width = line_width)\n",
    "ax[2,1].add_collection(l[0])\n",
    "ax[2,1].add_collection(l[1])\n",
    "ax[2,1].set_xlim(l[2])\n",
    "ax[2,1].set_ylim(l[3])\n",
    "ax[2,1].set_axis_off()\n",
    "ax[2,1].arrow(0,l[2][1],  0,  20, head_width=5, head_length=5, fc='k', ec='k')\n",
    "#ax[2,1].set_title(\"rotation for any node\")\n",
    "\n",
    "# location\n",
    "neuron = deepcopy(Neuron)\n",
    "index = neuron.choose_random_node_index()\n",
    "#print index\n",
    "index = 88\n",
    "displace = np.array([10,10,0])\n",
    "neuron.change_location(index,displace)\n",
    "l = plot_2D(neuron, give_image=True, line_width = line_width)\n",
    "ax[2,2].add_collection(l[0])\n",
    "ax[2,2].set_xlim(l[1])\n",
    "ax[2,2].set_ylim(l[2])\n",
    "ax[2,2].set_axis_off()\n",
    "#ax[2,2].set_title(\"location\")\n",
    "#ax[2,2].arrow(l[1][0],l[2][1],  20, - 20, head_width=5, head_length=5, fc='k', ec='k')\n",
    "plt.draw()\n",
    "plt.savefig(\"/Volumes/Arch/Dropbox/MCMC paper/perturbation.eps\", format = \"eps\")"
   ]
  },
  {
   "cell_type": "markdown",
   "metadata": {},
   "source": [
    "# Generated images"
   ]
  },
  {
   "cell_type": "markdown",
   "metadata": {},
   "source": [
    "## sample of data"
   ]
  },
  {
   "cell_type": "code",
   "execution_count": null,
   "metadata": {
    "collapsed": false
   },
   "outputs": [],
   "source": [
    "from pylab import *\n",
    "real_neuron_sample =2\n",
    "border = 0\n",
    "border_x = .01\n",
    "border_y = .01\n",
    "dpi = 100\n",
    "# Sample of the data of pyramidal\n",
    "L = McNeuron.visualize.get_all_path(\"/Volumes/Arch/Projects/Computational Anatomy/neuron_nmo/\")\n",
    "f, ax = plt.subplots()\n",
    "ax.set_axis_off()\n",
    "golden = 1\n",
    "for i in range(real_neuron_sample):\n",
    "    Feature_neuron = McNeuron.Neuron(file_format = 'swc', input_file=L[1500+i])\n",
    "    res1 = (1. - (2 * real_neuron_sample+1) * border_x - 2*real_neuron_sample*border_x)/((1.+real_neuron_sample) * golden)\n",
    "    rec1 = Rectangle(((2*i+1)*border_x + 2*i*border_x+ golden*res1*i , 1 - res1*golden  - border - 2*border_y)\n",
    "                     ,res1*golden + 2*border_x\n",
    "                     ,res1 + 2*border_y\n",
    "                     ,fill = False)  \n",
    "    l = plot_2D(Feature_neuron, dpi = dpi, give_image=True,  line_width = 1, scale_on = True, \n",
    "                scale = (res1*golden, res1), \n",
    "                translation=((2*i+2)*border_x + 2*i*border_x + golden*res1*i,1 - res1*golden - border_y - border))\n",
    "    rec1.set_clip_on(False)\n",
    "    rec1 = ax.add_patch(rec1) \n",
    "    ax.add_collection(l[0])\n",
    "\n",
    "# generated data of Pyramidal\n",
    "L = McNeuron.visualize.get_all_path(\"/Users/RoozbehFarhoudi/Documents/Repos/Generative-Models-of-Neuron-Morphology/Data/Interneuron/allen cell types/CNG version/\")\n",
    "border = .3\n",
    "golden = (1+np.sqrt(3))/2\n",
    "for i in range(real_neuron_sample):\n",
    "    Feature_neuron = McNeuron.Neuron(file_format = 'swc', input_file=L[6+i])\n",
    "    res1 = (1. - (2 * real_neuron_sample+1) * border_x - 2*real_neuron_sample*border_x)/((1.+real_neuron_sample) * golden)\n",
    "    rec1 = Rectangle(((2*i+1)*border_x + 2*i*border_x+ golden*res1*i , 1 - res1*golden  - border - 2*border_y)\n",
    "                     ,res1*golden + 2*border_x\n",
    "                     ,res1 + 2*border_y\n",
    "                     ,fill = False)  \n",
    "    l = plot_2D(Feature_neuron, dpi = dpi, give_image=True,  line_width = 1, scale_on = True, \n",
    "                scale = (res1*golden, res1), \n",
    "                translation=((2*i+2)*border_x + 2*i*border_x + golden*res1*i,1 - res1*golden - border_y - border))\n",
    "    rec1.set_clip_on(False)\n",
    "    rec1 = ax.add_patch(rec1) \n",
    "    ax.add_collection(l[0])\n",
    "f.set_figheight(30)\n",
    "f.set_figwidth(30)\n",
    "f.set_dpi(dpi)\n",
    "#plt.savefig(\"/Volumes/Arch/Dropbox/MCMC paper/generated_fig\")"
   ]
  },
  {
   "cell_type": "markdown",
   "metadata": {},
   "source": [
    "# Evolution of the neuron"
   ]
  },
  {
   "cell_type": "code",
   "execution_count": null,
   "metadata": {
    "collapsed": false,
    "scrolled": false
   },
   "outputs": [],
   "source": [
    "from pylab import *\n",
    "N = [deepcopy(start_neuron)]\n",
    "it = 1000\n",
    "per = McNeuron.MCMC(neuron=deepcopy(start_neuron), iterations = it,verbose=0)\n",
    "N.append(deepcopy(per.neuron))\n",
    "per.kappa_rotation = 200.\n",
    "per.rescale_value = 0\n",
    "per.sliding_limit = 80.\n",
    "per.horizental_stretch = .1\n",
    "per.vertical_stretch = .1\n",
    "per.location_toward_cte = .5\n",
    "per.set_real_neuron(feature_neuron,M)\n",
    "per.set_probability(L_prob)\n",
    "per.fit()\n",
    "N.append(deepcopy(per.neuron))\n",
    "\n",
    "neuron_sample = 15\n",
    "for i in range(neuron_sample):\n",
    "    per.set_initial_neuron(deepcopy(per.neuron))\n",
    "    per.set_n_iteration(it)\n",
    "    per.fit()\n",
    "    N.append(deepcopy(per.neuron))\n",
    "\n",
    "border = 0\n",
    "border_x = .01\n",
    "border_y = .01\n",
    "dpi = 80\n",
    "f, ax = plt.subplots(figsize=(20, 20))\n",
    "ax.set_axis_off()\n",
    "golden = 1\n",
    "n = neuron_sample+2\n",
    "s = 4\n",
    "le = 5.\n",
    "for j in range(s):\n",
    "    border +=.1\n",
    "    for i in range(np.int(n/s)+1):\n",
    "        if(s*j+i<n):\n",
    "            neuron = N[s*j+i]\n",
    "            res1 = (le - (2 * neuron_sample+1) * border_x - 2*neuron_sample*border_x)/((1.+neuron_sample) * golden*5)\n",
    "            rec1 = Rectangle(((2*i+1)*border_x + 2*i*border_x+ golden*res1*i , 1 - res1*golden  - border - 2*border_y)\n",
    "                             ,res1*golden + 2*border_x\n",
    "                             ,res1 + 2*border_y\n",
    "                             ,fill = False)  \n",
    "            l = plot_2D(neuron, dpi = dpi, give_image=True,  line_width = 1, scale_on = True, \n",
    "                        scale = (res1*golden, res1), \n",
    "                        translation=((2*i+2)*border_x + 2*i*border_x + golden*res1*i,1 - res1*golden - border_y - border))\n",
    "            rec1.set_clip_on(False)\n",
    "            rec1 = ax.add_patch(rec1) \n",
    "            ax.add_collection(l[0])\n",
    "f.set_dpi(300)\n",
    "plt.savefig(\"/Volumes/Arch/Dropbox/MCMC paper/evolution\")\n",
    "#f.set_size_inches((80,80))\n",
    "#f.set_figheight(50)\n",
    "#f.set_figwidth(50)"
   ]
  },
  {
   "cell_type": "code",
   "execution_count": null,
   "metadata": {
    "collapsed": false,
    "scrolled": false
   },
   "outputs": [],
   "source": [
    "for i in range(len(N)):\n",
    "    plot_2D(N[i])"
   ]
  },
  {
   "cell_type": "markdown",
   "metadata": {
    "collapsed": true
   },
   "source": [
    "## Sample from neurons"
   ]
  },
  {
   "cell_type": "code",
   "execution_count": null,
   "metadata": {
    "collapsed": false
   },
   "outputs": [],
   "source": [
    "import numpy as np\n",
    "import McNeuron\n",
    "import matplotlib.pyplot as plt\n",
    "from copy import deepcopy\n",
    "%matplotlib inline\n",
    "#L = McNeuron.visualize.get_all_path(\"/Volumes/Arch/Projects/Computational Anatomy/neuron_nmo/\")\n",
    "L = McNeuron.visualize.get_all_path(\"/Volumes/Arch/Projects/Computational Anatomy/Markram/\")\n",
    "Neuron = McNeuron.Neuron(file_format = 'swc', input_file=L[885])\n",
    "#McNeuron.visualize.plot_2D(Neuron)\n",
    "#Neuron.show_features(15,17,50)\n",
    "McNeuron.visualize.plot_2D(Neuron, save = \"/Volumes/Arch/Dropbox/MCMC paper/sample_neuron_3.eps\")"
   ]
  },
  {
   "cell_type": "code",
   "execution_count": null,
   "metadata": {
    "collapsed": false,
    "scrolled": true
   },
   "outputs": [],
   "source": [
    "import numpy as np\n",
    "import McNeuron\n",
    "import matplotlib.pyplot as plt\n",
    "from copy import deepcopy\n",
    "%matplotlib inline\n",
    "#np.random.seed(0)\n",
    "L_neuron = McNeuron.visualize.get_all_path(\"/Volumes/Arch/Projects/Computational Anatomy/pyramidal\")\n",
    "#L_neuron = McNeuron.visualize.get_all_path(\"/Volumes/Arch/Projects/Computational Anatomy/badea, ganglia cell, retina mouse/\")\n",
    "Feature_neuron = McNeuron.Neuron(file_format = 'swc', input_file=L_neuron[1510])\n",
    "#inter2 = Inter2.subsample_given_n_node(400)\n",
    "McNeuron.visualize.plot_2D(Feature_neuron, dpi = 120, size = 5, show_width= False,  background = .01,line_width=2)"
   ]
  },
  {
   "cell_type": "code",
   "execution_count": null,
   "metadata": {
    "collapsed": false
   },
   "outputs": [],
   "source": [
    "McNeuron.visualize.plot_2D(Feature_neuron, save = \"/Volumes/Arch/Dropbox/MCMC paper/pyramidal_4.eps\")"
   ]
  },
  {
   "cell_type": "markdown",
   "metadata": {
    "collapsed": true
   },
   "source": [
    "# Image of rat pyramidal cell layer 2/3 for comapeing to the NETMORPH"
   ]
  },
  {
   "cell_type": "code",
   "execution_count": 11,
   "metadata": {
    "collapsed": false
   },
   "outputs": [
    {
     "data": {
      "image/png": "[encoded data removed]",
      "text/plain": [
       "<matplotlib.figure.Figure at 0x109c86050>"
      ]
     },
     "metadata": {},
     "output_type": "display_data"
    }
   ],
   "source": [
    "import numpy as np\n",
    "import McNeuron\n",
    "import matplotlib.pyplot as plt\n",
    "from copy import deepcopy\n",
    "%matplotlib inline\n",
    "#np.random.seed(0)\n",
    "L_neuron = McNeuron.visualize.get_all_path(\"/Volumes/Arch/Projects/Computational Anatomy/pyramidal/de koninck/\")\n",
    "#L_neuron = McNeuron.visualize.get_all_path(\"/Volumes/Arch/Projects/Computational Anatomy/badea, ganglia cell, retina mouse/\")\n",
    "Feature_neuron = McNeuron.Neuron(file_format = 'swc', input_file=L_neuron[20])\n",
    "#inter2 = Inter2.subsample_given_n_node(400)\n",
    "McNeuron.visualize.plot_2D(Feature_neuron, dpi = 120, size = 5, show_width= False,  background = .01,line_width=2)"
   ]
  },
  {
   "cell_type": "code",
   "execution_count": null,
   "metadata": {
    "collapsed": true
   },
   "outputs": [],
   "source": []
  }
 ],
 "metadata": {
  "kernelspec": {
   "display_name": "Python 2",
   "language": "python",
   "name": "python2"
  },
  "language_info": {
   "codemirror_mode": {
    "name": "ipython",
    "version": 2
   },
   "file_extension": ".py",
   "mimetype": "text/x-python",
   "name": "python",
   "nbconvert_exporter": "python",
   "pygments_lexer": "ipython2",
   "version": "2.7.12"
  }
 },
 "nbformat": 4,
 "nbformat_minor": 0
}
