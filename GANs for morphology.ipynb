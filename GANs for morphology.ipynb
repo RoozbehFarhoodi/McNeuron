{
 "cells": [
  {
   "cell_type": "markdown",
   "metadata": {},
   "source": [
    "# Imports"
   ]
  },
  {
   "cell_type": "code",
   "execution_count": 1,
   "metadata": {
    "collapsed": false
   },
   "outputs": [
    {
     "name": "stderr",
     "output_type": "stream",
     "text": [
      "Using Theano backend.\n"
     ]
    }
   ],
   "source": [
    "import numpy as np\n",
    "\n",
    "# Keras\n",
    "from keras.models import Sequential\n",
    "from keras.layers.core import Dense, Reshape, Dropout, Activation\n",
    "from keras.layers import Input, merge\n",
    "from keras.models import Model\n",
    "from keras.layers.wrappers import TimeDistributed\n",
    "from keras.layers.recurrent import LSTM\n",
    "\n",
    "# Other\n",
    "import matplotlib.pyplot as plt\n",
    "from copy import deepcopy\n",
    "import os\n",
    "import pickle\n",
    "\n",
    "%matplotlib inline\n",
    "\n",
    "# Local\n",
    "import McNeuron\n",
    "import morphology_generator as models\n",
    "import train_one_by_one_morphology as train\n",
    "import batch_utils\n",
    "import data_transforms"
   ]
  },
  {
   "cell_type": "markdown",
   "metadata": {},
   "source": [
    "# Load Data"
   ]
  },
  {
   "cell_type": "code",
   "execution_count": 2,
   "metadata": {
    "collapsed": false
   },
   "outputs": [],
   "source": [
    "training_data = pickle.load(open(\"/Volumes/Arch/Dropbox/HG-GAN/03-Data/synthetic_Two_segment_model_Different_directions_Parent_distance_n20_parent_id.p\", \"rb\"))\n",
    "#training_data = pickle.load(open(\"/Users/pavanramkumar/Dropbox/HG-GAN/03-Data/train4.p\", \"rb\"))"
   ]
  },
  {
   "cell_type": "markdown",
   "metadata": {},
   "source": [
    "# Global parameters¶"
   ]
  },
  {
   "cell_type": "code",
   "execution_count": null,
   "metadata": {
    "collapsed": true
   },
   "outputs": [],
   "source": [
    "n_levels = 1\n",
    "n_nodes = [20]\n",
    "\n",
    "input_dim = 100\n",
    "\n",
    "n_epochs = 5\n",
    "batch_size = 32\n",
    "n_batch_per_epoch = np.floor(training_data['morphology']['n20'].shape[0]/batch_size).astype(int)\n",
    "d_iters = 20\n",
    "lr_discriminator =  0.005\n",
    "lr_generator = 0.0005\n",
    "train_loss = 'wasserstein_loss'\n",
    "\n",
    "rule = 'm'\n",
    "train_one_by_one = False\n",
    "weight_constraint = [-0.05, 0.05]"
   ]
  },
  {
   "cell_type": "markdown",
   "metadata": {},
   "source": [
    "# Run"
   ]
  },
  {
   "cell_type": "code",
   "execution_count": null,
   "metadata": {
    "collapsed": false,
    "scrolled": false
   },
   "outputs": [
    {
     "name": "stdout",
     "output_type": "stream",
     "text": [
      "____________________________________________________________________________________________________\n",
      "Layer (type)                     Output Shape          Param #     Connected to                     \n",
      "====================================================================================================\n",
      "input_1 (InputLayer)             (None, 19, 20)        0                                            \n",
      "____________________________________________________________________________________________________\n",
      "lstm_1 (LSTM)                    (None, 19, 20)        3280        input_1[0][0]                    \n",
      "____________________________________________________________________________________________________\n",
      "reshape_1 (Reshape)              (None, 1, 380)        0           lstm_1[0][0]                     \n",
      "____________________________________________________________________________________________________\n",
      "embedding (Dense)                (None, 1, 100)        38100       reshape_1[0][0]                  \n",
      "____________________________________________________________________________________________________\n",
      "dense_1 (Dense)                  (None, 1, 50)         5050        embedding[0][0]                  \n",
      "____________________________________________________________________________________________________\n",
      "dense_2 (Dense)                  (None, 1, 50)         2550        dense_1[0][0]                    \n",
      "____________________________________________________________________________________________________\n",
      "dense_3 (Dense)                  (None, 1, 1)          51          dense_2[0][0]                    \n",
      "====================================================================================================\n",
      "Total params: 49,031\n",
      "Trainable params: 49,031\n",
      "Non-trainable params: 0\n",
      "____________________________________________________________________________________________________\n",
      "____________________________________________________________________________________________________\n",
      "Layer (type)                     Output Shape          Param #     Connected to                     \n",
      "====================================================================================================\n",
      "noise_input (InputLayer)         (None, 1, 100)        0                                            \n",
      "____________________________________________________________________________________________________\n",
      "dense_4 (Dense)                  (None, 1, 380)        38380       noise_input[0][0]                \n",
      "____________________________________________________________________________________________________\n",
      "dense_5 (Dense)                  (None, 1, 380)        144780      dense_4[0][0]                    \n",
      "____________________________________________________________________________________________________\n",
      "reshape_3 (Reshape)              (None, 19, 20)        0           dense_5[0][0]                    \n",
      "____________________________________________________________________________________________________\n",
      "lstm_3 (LSTM)                    (None, 19, 20)        3280        reshape_3[0][0]                  \n",
      "____________________________________________________________________________________________________\n",
      "lstm_4 (LSTM)                    (None, 19, 20)        3280        lstm_3[0][0]                     \n",
      "____________________________________________________________________________________________________\n",
      "timedistributed_1 (TimeDistribut (None, 19, 20)        420         lstm_4[0][0]                     \n",
      "____________________________________________________________________________________________________\n",
      "lambda_1 (Lambda)                (None, 19, 20)        0           timedistributed_1[0][0]          \n",
      "====================================================================================================\n",
      "Total params: 190,140\n",
      "Trainable params: 190,140\n",
      "Non-trainable params: 0\n",
      "____________________________________________________________________________________________________\n",
      "\n",
      "====================\n",
      "Level #0\n",
      "====================\n",
      "\n",
      "    Epoch #0\n",
      "\n",
      "    After 20 iterations"
     ]
    }
   ],
   "source": [
    "geom_model, cond_geom_model, morph_model, cond_morph_model, disc_model, gan_model = \\\n",
    "    train.train_model(training_data=training_data,\n",
    "                      n_levels=n_levels,\n",
    "                      n_nodes=n_nodes,\n",
    "                      input_dim=input_dim,\n",
    "                      n_epochs=n_epochs,\n",
    "                      batch_size=batch_size,\n",
    "                      n_batch_per_epoch=n_batch_per_epoch,\n",
    "                      d_iters=d_iters,\n",
    "                      lr_discriminator=lr_discriminator,\n",
    "                      lr_generator=lr_generator,\n",
    "                      weight_constraint=weight_constraint,\n",
    "                      rule=rule,\n",
    "                      train_one_by_one=train_one_by_one,\n",
    "                      train_loss=train_loss,\n",
    "                      verbose=True)"
   ]
  },
  {
   "cell_type": "code",
   "execution_count": null,
   "metadata": {
    "collapsed": true
   },
   "outputs": [],
   "source": []
  }
 ],
 "metadata": {
  "kernelspec": {
   "display_name": "Python 2",
   "language": "python",
   "name": "python2"
  },
  "language_info": {
   "codemirror_mode": {
    "name": "ipython",
    "version": 2
   },
   "file_extension": ".py",
   "mimetype": "text/x-python",
   "name": "python",
   "nbconvert_exporter": "python",
   "pygments_lexer": "ipython2",
   "version": "2.7.12"
  }
 },
 "nbformat": 4,
 "nbformat_minor": 0
}
