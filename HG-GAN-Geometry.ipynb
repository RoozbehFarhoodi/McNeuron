{
 "cells": [
  {
   "cell_type": "markdown",
   "metadata": {},
   "source": [
    "## plotting a neuron"
   ]
  },
  {
   "cell_type": "code",
   "execution_count": 4,
   "metadata": {
    "collapsed": false
   },
   "outputs": [],
   "source": [
    "import numpy as np\n",
    "import McNeuron\n",
    "import data_transforms\n",
    "\n",
    "from keras.models import Sequential\n",
    "from keras.layers.core import Dense, Reshape\n",
    "from keras.layers.recurrent import LSTM\n",
    "\n",
    "import matplotlib.pyplot as plt\n",
    "from copy import deepcopy\n",
    "import os\n",
    "\n",
    "from numpy import linalg as LA\n",
    "\n",
    "%matplotlib inline"
   ]
  },
  {
   "cell_type": "code",
   "execution_count": 2,
   "metadata": {
    "collapsed": false
   },
   "outputs": [
    {
     "data": {
      "text/plain": [
       "['__version__', 'neuron_data', '__header__', '__globals__']"
      ]
     },
     "execution_count": 2,
     "metadata": {},
     "output_type": "execute_result"
    }
   ],
   "source": [
    "import scipy.io\n",
    "mat = scipy.io.loadmat(\"/Volumes/Arch/Dropbox/HG-GAN/03-Data/Matlab format/part 1.mat\")\n",
    "#mat = scipy.io.loadmat(\"/Volumes/Arch/Dropbox/HG-GAN/03-Data/Matlab format/sample.mat\")\n",
    "mat.keys()"
   ]
  },
  {
   "cell_type": "code",
   "execution_count": null,
   "metadata": {
    "collapsed": false
   },
   "outputs": [],
   "source": [
    "tmp = mat['neuron_data'][186][3]\n",
    "#tmp = mat['N']\n",
    "neuron = data_transforms.swc_to_neuron(tmp)"
   ]
  },
  {
   "cell_type": "code",
   "execution_count": 7,
   "metadata": {
    "collapsed": false
   },
   "outputs": [
    {
     "ename": "KeyboardInterrupt",
     "evalue": "",
     "output_type": "error",
     "traceback": [
      "\u001b[0;31m---------------------------------------------------------------------------\u001b[0m",
      "\u001b[0;31mKeyboardInterrupt\u001b[0m                         Traceback (most recent call last)",
      "\u001b[0;32m<ipython-input-7-fe9e2f0294aa>\u001b[0m in \u001b[0;36m<module>\u001b[0;34m()\u001b[0m\n\u001b[1;32m      1\u001b[0m \u001b[0mtmp\u001b[0m \u001b[0;34m=\u001b[0m \u001b[0mmat\u001b[0m\u001b[0;34m[\u001b[0m\u001b[0;34m'neuron_data'\u001b[0m\u001b[0;34m]\u001b[0m\u001b[0;34m[\u001b[0m\u001b[0;36m186\u001b[0m\u001b[0;34m]\u001b[0m\u001b[0;34m[\u001b[0m\u001b[0;36m3\u001b[0m\u001b[0;34m]\u001b[0m\u001b[0;34m\u001b[0m\u001b[0m\n\u001b[1;32m      2\u001b[0m \u001b[0;31m#tmp = mat['N']\u001b[0m\u001b[0;34m\u001b[0m\u001b[0;34m\u001b[0m\u001b[0m\n\u001b[0;32m----> 3\u001b[0;31m \u001b[0mneuron\u001b[0m \u001b[0;34m=\u001b[0m \u001b[0mdata_transforms\u001b[0m\u001b[0;34m.\u001b[0m\u001b[0mswc_to_neuron\u001b[0m\u001b[0;34m(\u001b[0m\u001b[0mtmp\u001b[0m\u001b[0;34m)\u001b[0m\u001b[0;34m\u001b[0m\u001b[0m\n\u001b[0m\u001b[1;32m      4\u001b[0m \u001b[0mneuron2\u001b[0m \u001b[0;34m=\u001b[0m \u001b[0mdata_transforms\u001b[0m\u001b[0;34m.\u001b[0m\u001b[0mdownsample_neuron\u001b[0m\u001b[0;34m(\u001b[0m\u001b[0mneuron\u001b[0m\u001b[0;34m,\u001b[0m \u001b[0mnumber\u001b[0m \u001b[0;34m=\u001b[0m \u001b[0;36m20\u001b[0m\u001b[0;34m)\u001b[0m\u001b[0;34m\u001b[0m\u001b[0m\n\u001b[1;32m      5\u001b[0m \u001b[0mMcNeuron\u001b[0m\u001b[0;34m.\u001b[0m\u001b[0mvisualize\u001b[0m\u001b[0;34m.\u001b[0m\u001b[0mplot_2D\u001b[0m\u001b[0;34m(\u001b[0m\u001b[0mneuron2\u001b[0m \u001b[0;34m,\u001b[0m\u001b[0msize\u001b[0m \u001b[0;34m=\u001b[0m \u001b[0;36m4\u001b[0m\u001b[0;34m)\u001b[0m\u001b[0;34m\u001b[0m\u001b[0m\n",
      "\u001b[0;32m/Users/RoozbehFarhoudi/Documents/Repos/McNeuron/data_transforms.pyc\u001b[0m in \u001b[0;36mswc_to_neuron\u001b[0;34m(matrix)\u001b[0m\n\u001b[1;32m    121\u001b[0m     \u001b[0mReturn\u001b[0m \u001b[0mthe\u001b[0m \u001b[0mNeuron\u001b[0m \u001b[0mobject\u001b[0m \u001b[0;32mfrom\u001b[0m \u001b[0mswc\u001b[0m \u001b[0mmatrix\u001b[0m\u001b[0;34m.\u001b[0m\u001b[0;34m\u001b[0m\u001b[0m\n\u001b[1;32m    122\u001b[0m     \"\"\"\n\u001b[0;32m--> 123\u001b[0;31m     \u001b[0;32mreturn\u001b[0m \u001b[0mNeuron\u001b[0m\u001b[0;34m(\u001b[0m\u001b[0mfile_format\u001b[0m \u001b[0;34m=\u001b[0m \u001b[0;34m'Matrix of swc'\u001b[0m \u001b[0;34m,\u001b[0m \u001b[0minput_file\u001b[0m \u001b[0;34m=\u001b[0m \u001b[0mmatrix\u001b[0m\u001b[0;34m)\u001b[0m\u001b[0;34m\u001b[0m\u001b[0m\n\u001b[0m\u001b[1;32m    124\u001b[0m \u001b[0;34m\u001b[0m\u001b[0m\n\u001b[1;32m    125\u001b[0m \u001b[0;32mdef\u001b[0m \u001b[0mdownsample_neuron\u001b[0m\u001b[0;34m(\u001b[0m\u001b[0mneuron\u001b[0m\u001b[0;34m,\u001b[0m \u001b[0mnumber\u001b[0m \u001b[0;34m=\u001b[0m \u001b[0;36m30\u001b[0m\u001b[0;34m,\u001b[0m \u001b[0mtype\u001b[0m \u001b[0;34m=\u001b[0m \u001b[0;34m'random'\u001b[0m\u001b[0;34m)\u001b[0m\u001b[0;34m:\u001b[0m\u001b[0;34m\u001b[0m\u001b[0m\n",
      "\u001b[0;32m/Users/RoozbehFarhoudi/Documents/Repos/McNeuron/McNeuron/Neuron.pyc\u001b[0m in \u001b[0;36m__init__\u001b[0;34m(self, file_format, input_file)\u001b[0m\n\u001b[1;32m    129\u001b[0m         \u001b[0;32mif\u001b[0m\u001b[0;34m(\u001b[0m\u001b[0mfile_format\u001b[0m \u001b[0;34m==\u001b[0m \u001b[0;34m'Matrix of swc'\u001b[0m\u001b[0;34m)\u001b[0m\u001b[0;34m:\u001b[0m\u001b[0;34m\u001b[0m\u001b[0m\n\u001b[1;32m    130\u001b[0m             \u001b[0;31m# the n*7 array is given.\u001b[0m\u001b[0;34m\u001b[0m\u001b[0;34m\u001b[0m\u001b[0m\n\u001b[0;32m--> 131\u001b[0;31m             \u001b[0mself\u001b[0m\u001b[0;34m.\u001b[0m\u001b[0mread_swc_matrix\u001b[0m\u001b[0;34m(\u001b[0m\u001b[0minput_file\u001b[0m\u001b[0;34m)\u001b[0m\u001b[0;34m\u001b[0m\u001b[0m\n\u001b[0m\u001b[1;32m    132\u001b[0m             \u001b[0mself\u001b[0m\u001b[0;34m.\u001b[0m\u001b[0mset_parent\u001b[0m\u001b[0;34m(\u001b[0m\u001b[0;34m)\u001b[0m\u001b[0;34m\u001b[0m\u001b[0m\n\u001b[1;32m    133\u001b[0m             \u001b[0mself\u001b[0m\u001b[0;34m.\u001b[0m\u001b[0mparent_index\u001b[0m \u001b[0;34m=\u001b[0m \u001b[0mself\u001b[0m\u001b[0;34m.\u001b[0m\u001b[0mparent_index\u001b[0m\u001b[0;34m.\u001b[0m\u001b[0mastype\u001b[0m\u001b[0;34m(\u001b[0m\u001b[0mint\u001b[0m\u001b[0;34m)\u001b[0m\u001b[0;34m\u001b[0m\u001b[0m\n",
      "\u001b[0;32m/Users/RoozbehFarhoudi/Documents/Repos/McNeuron/McNeuron/Neuron.pyc\u001b[0m in \u001b[0;36mread_swc_matrix\u001b[0;34m(self, input_file)\u001b[0m\n\u001b[1;32m   1826\u001b[0m                 \u001b[0;32mif\u001b[0m\u001b[0;34m(\u001b[0m\u001b[0mparent_index\u001b[0m \u001b[0;34m!=\u001b[0m \u001b[0;36m1\u001b[0m\u001b[0;34m)\u001b[0m\u001b[0;34m:\u001b[0m\u001b[0;34m\u001b[0m\u001b[0m\n\u001b[1;32m   1827\u001b[0m                     \u001b[0;32mif\u001b[0m\u001b[0;34m(\u001b[0m\u001b[0mchild_index\u001b[0m\u001b[0;34m[\u001b[0m\u001b[0;36m0\u001b[0m\u001b[0;34m,\u001b[0m\u001b[0mparent_index\u001b[0m\u001b[0;34m-\u001b[0m\u001b[0;36m1\u001b[0m\u001b[0;34m]\u001b[0m\u001b[0;34m==\u001b[0m\u001b[0;36m0\u001b[0m\u001b[0;34m)\u001b[0m\u001b[0;34m:\u001b[0m\u001b[0;34m\u001b[0m\u001b[0m\n\u001b[0;32m-> 1828\u001b[0;31m                         \u001b[0mchild_index\u001b[0m\u001b[0;34m[\u001b[0m\u001b[0;36m0\u001b[0m\u001b[0;34m,\u001b[0m\u001b[0mparent_index\u001b[0m\u001b[0;34m-\u001b[0m\u001b[0;36m1\u001b[0m\u001b[0;34m]\u001b[0m \u001b[0;34m=\u001b[0m \u001b[0mindex\u001b[0m\u001b[0;34m-\u001b[0m\u001b[0;36m1\u001b[0m\u001b[0;34m\u001b[0m\u001b[0m\n\u001b[0m\u001b[1;32m   1829\u001b[0m                     \u001b[0;32melse\u001b[0m\u001b[0;34m:\u001b[0m\u001b[0;34m\u001b[0m\u001b[0m\n\u001b[1;32m   1830\u001b[0m                         \u001b[0mchild_index\u001b[0m\u001b[0;34m[\u001b[0m\u001b[0;36m1\u001b[0m\u001b[0;34m,\u001b[0m\u001b[0mparent_index\u001b[0m\u001b[0;34m-\u001b[0m\u001b[0;36m1\u001b[0m\u001b[0;34m]\u001b[0m \u001b[0;34m=\u001b[0m \u001b[0mindex\u001b[0m\u001b[0;34m-\u001b[0m\u001b[0;36m1\u001b[0m\u001b[0;34m\u001b[0m\u001b[0m\n",
      "\u001b[0;32m/Users/RoozbehFarhoudi/anaconda/lib/python2.7/site-packages/scipy/sparse/compressed.pyc\u001b[0m in \u001b[0;36m__setitem__\u001b[0;34m(self, index, x)\u001b[0m\n\u001b[1;32m    650\u001b[0m             \u001b[0;32mreturn\u001b[0m\u001b[0;34m\u001b[0m\u001b[0m\n\u001b[1;32m    651\u001b[0m         \u001b[0mi\u001b[0m\u001b[0;34m,\u001b[0m \u001b[0mj\u001b[0m \u001b[0;34m=\u001b[0m \u001b[0mself\u001b[0m\u001b[0;34m.\u001b[0m\u001b[0m_swap\u001b[0m\u001b[0;34m(\u001b[0m\u001b[0;34m(\u001b[0m\u001b[0mi\u001b[0m\u001b[0;34m.\u001b[0m\u001b[0mravel\u001b[0m\u001b[0;34m(\u001b[0m\u001b[0;34m)\u001b[0m\u001b[0;34m,\u001b[0m \u001b[0mj\u001b[0m\u001b[0;34m.\u001b[0m\u001b[0mravel\u001b[0m\u001b[0;34m(\u001b[0m\u001b[0;34m)\u001b[0m\u001b[0;34m)\u001b[0m\u001b[0;34m)\u001b[0m\u001b[0;34m\u001b[0m\u001b[0m\n\u001b[0;32m--> 652\u001b[0;31m         \u001b[0mself\u001b[0m\u001b[0;34m.\u001b[0m\u001b[0m_set_many\u001b[0m\u001b[0;34m(\u001b[0m\u001b[0mi\u001b[0m\u001b[0;34m,\u001b[0m \u001b[0mj\u001b[0m\u001b[0;34m,\u001b[0m \u001b[0mx\u001b[0m\u001b[0;34m.\u001b[0m\u001b[0mravel\u001b[0m\u001b[0;34m(\u001b[0m\u001b[0;34m)\u001b[0m\u001b[0;34m)\u001b[0m\u001b[0;34m\u001b[0m\u001b[0m\n\u001b[0m\u001b[1;32m    653\u001b[0m \u001b[0;34m\u001b[0m\u001b[0m\n\u001b[1;32m    654\u001b[0m     \u001b[0;32mdef\u001b[0m \u001b[0m_setdiag\u001b[0m\u001b[0;34m(\u001b[0m\u001b[0mself\u001b[0m\u001b[0;34m,\u001b[0m \u001b[0mvalues\u001b[0m\u001b[0;34m,\u001b[0m \u001b[0mk\u001b[0m\u001b[0;34m)\u001b[0m\u001b[0;34m:\u001b[0m\u001b[0;34m\u001b[0m\u001b[0m\n",
      "\u001b[0;32m/Users/RoozbehFarhoudi/anaconda/lib/python2.7/site-packages/scipy/sparse/compressed.pyc\u001b[0m in \u001b[0;36m_set_many\u001b[0;34m(self, i, j, x)\u001b[0m\n\u001b[1;32m    738\u001b[0m             \u001b[0mj\u001b[0m \u001b[0;34m=\u001b[0m \u001b[0mj\u001b[0m\u001b[0;34m[\u001b[0m\u001b[0mmask\u001b[0m\u001b[0;34m]\u001b[0m\u001b[0;34m\u001b[0m\u001b[0m\n\u001b[1;32m    739\u001b[0m             \u001b[0mj\u001b[0m\u001b[0;34m[\u001b[0m\u001b[0mj\u001b[0m \u001b[0;34m<\u001b[0m \u001b[0;36m0\u001b[0m\u001b[0;34m]\u001b[0m \u001b[0;34m+=\u001b[0m \u001b[0mN\u001b[0m\u001b[0;34m\u001b[0m\u001b[0m\n\u001b[0;32m--> 740\u001b[0;31m             \u001b[0mself\u001b[0m\u001b[0;34m.\u001b[0m\u001b[0m_insert_many\u001b[0m\u001b[0;34m(\u001b[0m\u001b[0mi\u001b[0m\u001b[0;34m,\u001b[0m \u001b[0mj\u001b[0m\u001b[0;34m,\u001b[0m \u001b[0mx\u001b[0m\u001b[0;34m[\u001b[0m\u001b[0mmask\u001b[0m\u001b[0;34m]\u001b[0m\u001b[0;34m)\u001b[0m\u001b[0;34m\u001b[0m\u001b[0m\n\u001b[0m\u001b[1;32m    741\u001b[0m \u001b[0;34m\u001b[0m\u001b[0m\n\u001b[1;32m    742\u001b[0m     \u001b[0;32mdef\u001b[0m \u001b[0m_zero_many\u001b[0m\u001b[0;34m(\u001b[0m\u001b[0mself\u001b[0m\u001b[0;34m,\u001b[0m \u001b[0mi\u001b[0m\u001b[0;34m,\u001b[0m \u001b[0mj\u001b[0m\u001b[0;34m)\u001b[0m\u001b[0;34m:\u001b[0m\u001b[0;34m\u001b[0m\u001b[0m\n",
      "\u001b[0;32m/Users/RoozbehFarhoudi/anaconda/lib/python2.7/site-packages/scipy/sparse/compressed.pyc\u001b[0m in \u001b[0;36m_insert_many\u001b[0;34m(self, i, j, x)\u001b[0m\n\u001b[1;32m    826\u001b[0m             \u001b[0;31m# TODO: only sort where necessary\u001b[0m\u001b[0;34m\u001b[0m\u001b[0;34m\u001b[0m\u001b[0m\n\u001b[1;32m    827\u001b[0m             \u001b[0mself\u001b[0m\u001b[0;34m.\u001b[0m\u001b[0mhas_sorted_indices\u001b[0m \u001b[0;34m=\u001b[0m \u001b[0mFalse\u001b[0m\u001b[0;34m\u001b[0m\u001b[0m\n\u001b[0;32m--> 828\u001b[0;31m             \u001b[0mself\u001b[0m\u001b[0;34m.\u001b[0m\u001b[0msort_indices\u001b[0m\u001b[0;34m(\u001b[0m\u001b[0;34m)\u001b[0m\u001b[0;34m\u001b[0m\u001b[0m\n\u001b[0m\u001b[1;32m    829\u001b[0m \u001b[0;34m\u001b[0m\u001b[0m\n\u001b[1;32m    830\u001b[0m         \u001b[0mself\u001b[0m\u001b[0;34m.\u001b[0m\u001b[0mcheck_format\u001b[0m\u001b[0;34m(\u001b[0m\u001b[0mfull_check\u001b[0m\u001b[0;34m=\u001b[0m\u001b[0mFalse\u001b[0m\u001b[0;34m)\u001b[0m\u001b[0;34m\u001b[0m\u001b[0m\n",
      "\u001b[0;32m/Users/RoozbehFarhoudi/anaconda/lib/python2.7/site-packages/scipy/sparse/compressed.pyc\u001b[0m in \u001b[0;36msort_indices\u001b[0;34m(self)\u001b[0m\n\u001b[1;32m   1016\u001b[0m         \u001b[0;32mif\u001b[0m \u001b[0;32mnot\u001b[0m \u001b[0mself\u001b[0m\u001b[0;34m.\u001b[0m\u001b[0mhas_sorted_indices\u001b[0m\u001b[0;34m:\u001b[0m\u001b[0;34m\u001b[0m\u001b[0m\n\u001b[1;32m   1017\u001b[0m             _sparsetools.csr_sort_indices(len(self.indptr) - 1, self.indptr,\n\u001b[0;32m-> 1018\u001b[0;31m                                           self.indices, self.data)\n\u001b[0m\u001b[1;32m   1019\u001b[0m             \u001b[0mself\u001b[0m\u001b[0;34m.\u001b[0m\u001b[0mhas_sorted_indices\u001b[0m \u001b[0;34m=\u001b[0m \u001b[0mTrue\u001b[0m\u001b[0;34m\u001b[0m\u001b[0m\n\u001b[1;32m   1020\u001b[0m \u001b[0;34m\u001b[0m\u001b[0m\n",
      "\u001b[0;31mKeyboardInterrupt\u001b[0m: "
     ]
    }
   ],
   "source": [
    "tmp = mat['neuron_data'][186][3]\n",
    "#tmp = mat['N']\n",
    "neuron = data_transforms.swc_to_neuron(tmp)\n",
    "neuron2 = data_transforms.downsample_neuron(neuron, number = 20)\n",
    "McNeuron.visualize.plot_2D(neuron2 ,size = 4)"
   ]
  },
  {
   "cell_type": "code",
   "execution_count": 6,
   "metadata": {
    "collapsed": false
   },
   "outputs": [
    {
     "data": {
      "image/png": "[encoded data removed]",
      "text/plain": [
       "<matplotlib.figure.Figure at 0x104670090>"
      ]
     },
     "metadata": {},
     "output_type": "display_data"
    }
   ],
   "source": [
    "McNeuron.visualize.plot_2D(neuron ,size = 4)"
   ]
  },
  {
   "cell_type": "code",
   "execution_count": null,
   "metadata": {
    "collapsed": false
   },
   "outputs": [],
   "source": [
    "L = []\n",
    "for i in range(185):\n",
    "    tmp = mat['neuron_data'][i][3]\n",
    "#tmp = mat['N']\n",
    "    neuron = data_transforms.swc_to_neuron(tmp)\n",
    "    neuron2 = data_transforms.downsample_neuron(neuron, number = 20)\n",
    "    print i\n",
    "    L.append(neuron2)"
   ]
  },
  {
   "cell_type": "code",
   "execution_count": null,
   "metadata": {
    "collapsed": false
   },
   "outputs": [],
   "source": [
    "L"
   ]
  },
  {
   "cell_type": "code",
   "execution_count": null,
   "metadata": {
    "collapsed": false
   },
   "outputs": [],
   "source": [
    "n = neuron.mesoscale_subsample(150)\n",
    "#n = neuron.subsample_main_nodes()\n",
    "McNeuron.visualize.plot_2D(n ,size = 4)\n",
    "print n.n_node"
   ]
  },
  {
   "cell_type": "code",
   "execution_count": null,
   "metadata": {
    "collapsed": false
   },
   "outputs": [],
   "source": [
    "McNeuron.visualize.plot_2D(neuron ,size = 4)"
   ]
  },
  {
   "cell_type": "markdown",
   "metadata": {},
   "source": [
    "#### Subsampling methods"
   ]
  },
  {
   "cell_type": "code",
   "execution_count": null,
   "metadata": {
    "collapsed": false
   },
   "outputs": [],
   "source": [
    "# self is neuron!\n",
    "def get_main_points(self):\n",
    "    \"\"\"\n",
    "    gets the index of branching points and end points.\n",
    "    \"\"\"\n",
    "    (branch_index,) = np.where(self.branch_order[self.n_soma:]==2)\n",
    "    (endpoint_index,) = np.where(self.branch_order[self.n_soma:]==0)\n",
    "    selected_index = np.union1d(branch_index + self.n_soma, endpoint_index + self.n_soma)\n",
    "    selected_index = np.append(range(self.n_soma), selected_index)\n",
    "    return selected_index\n",
    "\n",
    "def parent_id(self, selected_index):\n",
    "    \"\"\"\n",
    "    Gives back the parent id of all the selected_index of the neuron. \n",
    "    Parameters\n",
    "    ----------\n",
    "    selected_index: numpy array\n",
    "        the index of nodes\n",
    "    Returns\n",
    "    -------\n",
    "    parent_id: the index of parent of each element in selected_index in this array.\n",
    "    \"\"\"\n",
    "    parent_id = np.array([],dtype = int)\n",
    "    for i in selected_index:\n",
    "        p = self.parent_index[i]\n",
    "        while(~np.any(selected_index == p)):\n",
    "            p = self.parent_index[p]\n",
    "        (ind,) = np.where(selected_index==p)\n",
    "        parent_id = np.append(parent_id , ind) \n",
    "    return parent_id\n",
    "\n",
    "def neuron_with_selected_nodes(self, selected_index):\n",
    "    \"\"\"\n",
    "    Gives back a new neuron made up with the selected_index nodes of self.\n",
    "    if node A is parent (or grand parent) of node B in the original neuron, it is the same for the new neuron.\n",
    "    Parameters\n",
    "    ----------\n",
    "    selected_index: numpy array\n",
    "        the index of nodes from original neuron for making new neuron\n",
    "    Returns\n",
    "    -------\n",
    "    Neuron: the subsampled neuron\n",
    "    \"\"\"\n",
    "    parent = parent_id(self, selected_index)\n",
    "    # making the list of nodes\n",
    "    n_list = []\n",
    "    for i in range(selected_index.shape[0]):\n",
    "        n = McNeuron.Node()\n",
    "        n.xyz = self.nodes_list[selected_index[i]].xyz\n",
    "        n.r = self.nodes_list[selected_index[i]].r\n",
    "        n.type = self.nodes_list[selected_index[i]].type\n",
    "        n_list.append(n)\n",
    "    # adjusting the childern and parents for the nodes.\n",
    "    for i in np.arange(1,selected_index.shape[0]):\n",
    "        j = parent[i]\n",
    "        n_list[i].parent = n_list[j]\n",
    "        n_list[j].add_child(n_list[i])\n",
    "    return McNeuron.Neuron(file_format = 'only list of nodes', input_file = n_list)\n",
    "\n",
    "def find_sharpest_fork(self, Nodes):\n",
    "    \"\"\"\n",
    "    Looks at the all branching point in the Nodes list, selects those which both its children are end points and finds\n",
    "    the closest pair of childern (the distance between children).\n",
    "    Parameters\n",
    "    ----------\n",
    "    Nodes: list\n",
    "    the list of Node\n",
    "        \n",
    "    Returns\n",
    "    -------\n",
    "    sharpest_pair: array\n",
    "        the index of the pair of closest pair of childern\n",
    "    distance: float\n",
    "        Distance of the pair of children\n",
    "    \"\"\"\n",
    "    pair_list = []\n",
    "    Dis = np.array([])\n",
    "    for n in Nodes:       \n",
    "        if n.parent is not None:\n",
    "            if n.parent.parent is not None:\n",
    "                a = n.parent.children\n",
    "                if(isinstance(a, list)):\n",
    "                    if(len(a)==2):\n",
    "                        n1 = a[0]\n",
    "                        n2 = a[1]\n",
    "                        if(len(n1.children) == 0 and len(n2.children) == 0):\n",
    "                            pair_list.append([n1 , n2])\n",
    "                            dis = LA.norm(a[0].xyz - a[1].xyz,2)\n",
    "                            Dis = np.append(Dis,dis)\n",
    "    if(len(Dis)!= 0):\n",
    "        (b,) = np.where(Dis == Dis.min())\n",
    "        sharpest_pair = pair_list[b[0]]\n",
    "        distance = Dis.min()\n",
    "    else:\n",
    "        sharpest_pair = [0,0]\n",
    "        distance = 0.\n",
    "    return sharpest_pair, distance\n",
    "\n",
    "def find_sharpest_fork_general(self, Nodes):\n",
    "    \"\"\"\n",
    "    Looks at the all branching point in the Nodes list, selects those which both its children are end points and finds\n",
    "    the closest pair of childern (the distance between children).\n",
    "    Parameters\n",
    "    ----------\n",
    "    Nodes: list\n",
    "    the list of Node\n",
    "        \n",
    "    Returns\n",
    "    -------\n",
    "    sharpest_pair: array\n",
    "        the index of the pair of closest pair of childern\n",
    "    distance: float\n",
    "        Distance of the pair of children\n",
    "    \"\"\"\n",
    "    pair_list = []\n",
    "    Dis = np.array([])\n",
    "    for n in Nodes:       \n",
    "        if n.parent is not None:\n",
    "            if n.parent.parent is not None:\n",
    "                a = n.parent.children\n",
    "                if(isinstance(a, list)):\n",
    "                    if(len(a)==2):\n",
    "                        n1 = a[0]\n",
    "                        n2 = a[1]\n",
    "                        pair_list.append([n1 , n2])\n",
    "                        dis = LA.norm(a[0].xyz - a[1].xyz,2)\n",
    "                        Dis = np.append(Dis,dis)\n",
    "    if(len(Dis)!= 0):\n",
    "        (b,) = np.where(Dis == Dis.min())\n",
    "        sharpest_pair = pair_list[b[0]]\n",
    "        distance = Dis.min()\n",
    "    else:\n",
    "        sharpest_pair = [0,0]\n",
    "        distance = 0.\n",
    "    return sharpest_pair, distance\n",
    "\n",
    "def remove_pair_replace_node(self, Nodes, pair):\n",
    "    \"\"\"\n",
    "    Removes the pair of nodes and replace it with a new node. the parent of new node is the parent of the pair of node,\n",
    "    and its location and its radius are the mean of removed nodes.\n",
    "    Parameters\n",
    "    ----------\n",
    "    Nodes: list\n",
    "    the list of Nodes\n",
    "    \n",
    "    pair: array\n",
    "    The index of pair of nodes. the nodes should be end points and have the same parent.\n",
    "    \n",
    "    Returns\n",
    "    -------\n",
    "    The new list of Nodes which the pair are removed and a mean node is replaced.\n",
    "    \"\"\"\n",
    "    \n",
    "    par = pair[0].parent\n",
    "    loc = pair[0].xyz + pair[1].xyz\n",
    "    loc = loc/2\n",
    "    r = pair[0].r + pair[1].r\n",
    "    r = r/2\n",
    "    Nodes.remove(pair[1])\n",
    "    Nodes.remove(pair[0])\n",
    "    n = McNeuron.Node()\n",
    "    n.xyz = loc\n",
    "    n.r = r\n",
    "    par.children = []\n",
    "    par.add_child(n)\n",
    "    n.parent = par\n",
    "    Nodes.append(n)\n",
    "    \n",
    "def remove_pair_adjust_parent(self, Nodes, pair):\n",
    "    \"\"\"\n",
    "    Removes the pair of nodes and adjust its parent. the location of the parent is the mean of the locaton of two nodes.\n",
    "    \n",
    "    Parameters\n",
    "    ----------\n",
    "    Nodes: list\n",
    "    the list of Nodes\n",
    "    \n",
    "    pair: array\n",
    "    The index of pair of nodes. the nodes should be end points and have the same parent.\n",
    "    \n",
    "    Returns\n",
    "    -------\n",
    "    The new list of Nodes which the pair are removed their parent is adjusted.\n",
    "    \"\"\"\n",
    "    \n",
    "    par = pair[0].parent\n",
    "    loc = pair[0].xyz + pair[1].xyz\n",
    "    loc = loc/2\n",
    "    Nodes.remove(pair[1])\n",
    "    Nodes.remove(pair[0])\n",
    "    par.xyz = loc\n",
    "    par.children = []\n",
    "    \n",
    "def prune_shortest_seg(self):\n",
    "    (endpoint_index,) = np.where(self.branch_order[self.n_soma:]==0)\n",
    "    #for i in endpoint_index:\n",
    "        \n",
    "    \n",
    "    \n",
    "def random_subsample(self, num):\n",
    "    \"\"\"\n",
    "    randomly selects a few nodes from neuron and builds a new neuron with them. The location of these node in the new neuron \n",
    "    is the same as the original neuron and the morphology of them is such that if node A is parent (or grand parent) of node B\n",
    "    in the original neuron, it is the same for the new neuron.\n",
    "    \n",
    "    Parameters\n",
    "    ---------- \n",
    "    num: int\n",
    "        number of nodes to be selected randomly.\n",
    "\n",
    "    Returns\n",
    "    -------\n",
    "    Neuron: the subsampled neuron\n",
    "    \"\"\"\n",
    "    \n",
    "    # select the index of num nodes randomly.\n",
    "    I = np.arange(self.n_soma, self.n_node)\n",
    "    np.random.shuffle(I)\n",
    "    selected_index = I[0:num]\n",
    "    selected_index = np.union1d(np.arange(self.n_soma), selected_index)\n",
    "    selected_index = selected_index.astype(int)\n",
    "    selected_index = np.unique(np.sort(selected_index))\n",
    "        \n",
    "    # making a list of node from the selected nodes\n",
    "    neuron = neuron_with_selected_nodes(self, selected_index)\n",
    "        \n",
    "    return neuron\n",
    "\n",
    "def subsample_main_nodes(self):\n",
    "    \"\"\"\n",
    "    subsamples a neuron with its main node only; i.e endpoints and branching nodes.\n",
    "\n",
    "    Returns\n",
    "    -------\n",
    "    Neuron: the subsampled neuron\n",
    "    \"\"\"\n",
    "    # select all the main points\n",
    "    selected_index = get_main_points(self)\n",
    "\n",
    "    # Computing the parent id of the selected nodes    \n",
    "    neuron = neuron_with_selected_nodes(self, selected_index)\n",
    "    return neuron\n",
    "\n",
    "def regular_subsample(self, distance):\n",
    "    \"\"\"\n",
    "    subsamples a neuron from original neuron. It has all the main points of the original neuron, \n",
    "    i.e endpoints or branching nodes, are not changed and meanwhile the distance of two consecutive nodes \n",
    "    of subsample neuron is around the 'distance'. \n",
    "    for each segment between two consecuative main points, a few nodes from the segment will be added to the selected node;\n",
    "    it starts from the far main point, and goes on the segment toward the near main point. Then the first node which is \n",
    "    going to add has the property that it is the farest node from begining on the segment such that its distance from begining is\n",
    "    less than 'distance'. The next nodes will be selected similarly. this procesure repeat for all the segments.\n",
    "   \n",
    "    Parameters\n",
    "    ---------- \n",
    "    distance: float\n",
    "        the mean distance between pairs of consecuative nodes.\n",
    "\n",
    "    Returns\n",
    "    -------\n",
    "    Neuron: the subsampled neuron\n",
    "    \"\"\"\n",
    "    \n",
    "    # Selecting the main points: branching nodes and end nodes\n",
    "    selected_index = get_main_points(self)\n",
    "    \n",
    "    # for each segment between two consecuative main points, a few nodes from the segment will be added to the selected node.\n",
    "    # These new nodes will be selected base on the fact that neural distance of two consecuative nodes is around 'distance'. \n",
    "    # Specifically, it starts from the far main point, and goes on the segment toward the near main point. Then the first node which is \n",
    "    # going to add has the property that it is the farest node from begining on the segment such that its distance from begining is\n",
    "    # less than 'distance'. The next nodes will be selected similarly.\n",
    "    \n",
    "    for i in selected_index:\n",
    "        upList = np.array([i],dtype = int)\n",
    "        index = self.parent_index[i]\n",
    "        dist = self.distance_from_parent[i]\n",
    "        while(~np.any(selected_index == index)):\n",
    "            upList = np.append(upList,index)\n",
    "            index = self.parent_index[index]\n",
    "            dist = np.append(dist, sum(self.distance_from_parent[upList]))\n",
    "        dist = np.append(0,dist)\n",
    "        (I,) = np.where(np.diff(np.floor(dist/distance))>0)\n",
    "        I = upList[I]\n",
    "        selected_index = np.append(selected_index,I)\n",
    "    selected_index = np.unique(selected_index)\n",
    "    \n",
    "    neuron = neuron_with_selected_nodes(self, selected_index)\n",
    "\n",
    "    return neuron\n",
    "\n",
    "def regular_subsample_with_fixed_number(self, num):\n",
    "    \"\"\"\n",
    "    gives back a regular subsample neuron (regular means that the distance between consecuative nodes is approximately fixed) \n",
    "    such that the number of nodes is 'num'.\n",
    "    \n",
    "    Parameters\n",
    "    ---------- \n",
    "    num: int\n",
    "        number of nodes on the subsampled neuron\n",
    "\n",
    "    Returns\n",
    "    -------\n",
    "    Neuron: the subsampled neuron   \n",
    "    \n",
    "    \"\"\"\n",
    "    l = sum(self.distance_from_parent)\n",
    "    branch_number = len(np.where(self.branch_order[self.n_soma:] == 2))\n",
    "    distance = l/(num - branch_number)\n",
    "    return regular_subsample(self, distance)\n",
    "\n",
    "def mesoscale_subsample(self, number):\n",
    "    main_point = self.subsample_main_nodes()\n",
    "    Nodes = main_point.nodes_list\n",
    "    rm = (main_point.n_node - number)/2.\n",
    "    for remove in range(int(rm)):\n",
    "        b, m = find_sharpest_fork(self, Nodes)\n",
    "        remove_pair_adjust_parent(self, Nodes, b)\n",
    "        \n",
    "    return McNeuron.Neuron(file_format = 'only list of nodes', input_file = Nodes)\n",
    "\n",
    "def regular_mesoscale_subsample(self, number):\n",
    "    thresh = 1.\n",
    "#     n = neuron.subsample(thresh)\n",
    "#     while(len(n.nodes_list)>number):\n",
    "#         thresh += 1 \n",
    "#         n = neuron.subsample(thresh)\n",
    "#         if(sum(n.branch_order[n.n_soma:]==1)==0):\n",
    "#             break\n",
    "#     neuron = n\n",
    "    Nodes = self.nodes_list\n",
    "    while(len(Nodes)>number):\n",
    "        b, m = find_sharpest_fork_general(self, Nodes)\n",
    "        print m\n",
    "        if(m>0. and m < thresh):\n",
    "            remove_pair_replace_node(self, Nodes, b)\n",
    "        else:\n",
    "            self = McNeuron.Neuron(file_format = 'only list of nodes', input_file = Nodes)\n",
    "            thresh = thresh + 1\n",
    "            self = self.subsample(thresh)\n",
    "            Nodes = self.nodes_list\n",
    "            print thresh\n",
    "        \n",
    "    return McNeuron.Neuron(file_format = 'only list of nodes', input_file = Nodes)\n"
   ]
  },
  {
   "cell_type": "code",
   "execution_count": null,
   "metadata": {
    "collapsed": false
   },
   "outputs": [],
   "source": [
    "self= neuron\n",
    "(endpoint_index,) = np.where(self.branch_order[self.n_soma:]==0)\n",
    "for i in endpoint_index:\n",
    "    a = self.nodes_list[i]\n",
    "    b = a.parent\n",
    "    while(len(b.children) ==1):\n",
    "        b = b.parent\n",
    "    print LA.norm(b.xyz - a.xyz,2)"
   ]
  },
  {
   "cell_type": "markdown",
   "metadata": {},
   "source": [
    "#### Testing subsamples"
   ]
  },
  {
   "cell_type": "code",
   "execution_count": null,
   "metadata": {
    "collapsed": false
   },
   "outputs": [],
   "source": [
    "neuron_list = McNeuron.visualize.get_all_path(os.getcwd()+\"/Data/Pyramidal/chen\")\n",
    "neuron = McNeuron.Neuron(file_format = 'swc', input_file=neuron_list[19])\n",
    "# McNeuron.visualize.plot_2D(neuron,size = 4)\n",
    "# McNeuron.visualize.plot_2D(random_subsample(neuron, 200) ,size = 4)\n",
    "# McNeuron.visualize.plot_2D(subsample_main_nodes(neuron) ,size = 4)\n",
    "# McNeuron.visualize.plot_2D(regular_subsample(neuron, distance = 60) ,size = 4)\n",
    "# McNeuron.visualize.plot_2D(regular_subsample_with_fixed_number(neuron, num = 200) ,size = 4)\n",
    "#McNeuron.visualize.plot_2D(mesoscale_subsample(neuron, number = 40) ,size = 4)\n",
    "McNeuron.visualize.plot_2D(regular_mesoscale_subsample(neuron, number = 40) ,size = 4)"
   ]
  },
  {
   "cell_type": "code",
   "execution_count": null,
   "metadata": {
    "collapsed": false
   },
   "outputs": [],
   "source": [
    "neuron.location"
   ]
  },
  {
   "cell_type": "markdown",
   "metadata": {},
   "source": [
    "#### Models"
   ]
  },
  {
   "cell_type": "code",
   "execution_count": null,
   "metadata": {
    "collapsed": true
   },
   "outputs": [],
   "source": [
    "def reducing_data(swc_df, pruning_number=10):\n",
    "    \"\"\"\n",
    "    Parameters\n",
    "    ----------\n",
    "    swc_df: dataframe\n",
    "        the original swc file\n",
    "    pruning_number: int\n",
    "        number of nodes remaining at the end of pruning\n",
    "        \n",
    "    Returns\n",
    "    -------\n",
    "    pruned_df: dataframe\n",
    "        pruned dataframe\n",
    "    \n",
    "    \"\"\"\n",
    "    L = []\n",
    "    for i in range(len(swc_df)):\n",
    "        L.append(mesoscale_subsample(McNeuron.Neuron(file_format = 'swc', input_file = swc_df[i]), pruning_number))\n",
    "    \n",
    "    return L\n",
    "    \n",
    "def separate(list_of_neurons):\n",
    "    \"\"\"\n",
    "    Parameters\n",
    "    ----------\n",
    "    list_of_neurons: List of Neurons\n",
    "        \n",
    "        \n",
    "    Returns\n",
    "    -------\n",
    "    geometry: array of shape (n-1, 3)\n",
    "        (x, y, z) coordinates of each shape assuming that soma is at (0, 0, 0)\n",
    "        \n",
    "    morphology : array of shape (n-1,)\n",
    "        index of node - index of parent\n",
    "    \"\"\"\n",
    "    Geo = list()\n",
    "    Morph = list()\n",
    "    for n in range(len(list_of_neurons)):\n",
    "        neuron = list_of_neurons[n]\n",
    "        Geo.append(neuron.location)\n",
    "        Morph.append(neuron.parent_index)\n",
    "    \n",
    "    return Geo, Morph\n",
    "    \n",
    "def geometry_generator(n_nodes=10):\n",
    "    \"\"\"\n",
    "    Generator network: fully connected 2-layer network to generate locations\n",
    "    \n",
    "    Parameters\n",
    "    ----------\n",
    "    n_nodes: int\n",
    "        number of nodes\n",
    "    \n",
    "    Returns\n",
    "    -------\n",
    "    model: keras object\n",
    "        number of models\n",
    "    \"\"\"\n",
    "    \n",
    "    model = Sequential()\n",
    "    \n",
    "    model.add(Dense(input_dim=100, output_dim=512))\n",
    "    model.add(Activation('tanh'))\n",
    "\n",
    "    model.add(Dense(input_dim=512, output_dim=512))\n",
    "    model.add(Activation('tanh'))\n",
    "\n",
    "    model.add(Dense(input_dim=512, output_dim=n_nodes * 3))\n",
    "    model.add(Reshape((n_nodes, 3)))\n",
    "    \n",
    "    return model\n",
    "\n",
    "def morphology_generator(n_nodes=10):\n",
    "    \"\"\"\n",
    "    Generator network: fully connected 2-layer network to generate locations\n",
    "    \n",
    "    Parameters\n",
    "    ----------\n",
    "    n_nodes: int\n",
    "        number of nodes\n",
    "    \n",
    "    Returns\n",
    "    -------\n",
    "    model: keras object\n",
    "        number of models\n",
    "    \"\"\"\n",
    "    \n",
    "    model = Sequential()\n",
    "    \n",
    "    # A keras seq to seq model, with the following characteristics:\n",
    "    # input length: 1\n",
    "    # input dimensionality: 100\n",
    "    # some hidden layers for encoding\n",
    "    # some hidden layers for decoding\n",
    "    # output length: n_nodes - 1\n",
    "    # output dimensionality: n_nodes - 1 (there will finally be a softmax on each output node)\n",
    "        \n",
    "    return model"
   ]
  },
  {
   "cell_type": "code",
   "execution_count": null,
   "metadata": {
    "collapsed": false,
    "scrolled": false
   },
   "outputs": [],
   "source": [
    "for i in range(5):\n",
    "    n_nodes = 10 + 10 * i\n",
    "    subsampled_neuron = mesoscale_subsample(deepcopy(neuron), n_nodes)\n",
    "    print 'Number of nodes: %d' % (n_nodes)\n",
    "    McNeuron.visualize.plot_2D(subsampled_neuron, size = 4)\n",
    "    #McNeuron.visualize.plot_dedrite_tree(subsampled_neuron)\n",
    "    \n",
    "    #plt.show()"
   ]
  },
  {
   "cell_type": "code",
   "execution_count": null,
   "metadata": {
    "collapsed": false,
    "scrolled": false
   },
   "outputs": [],
   "source": [
    "for i in range(20):\n",
    "    n_nodes = 10 + 10 * i\n",
    "    subsampled_neuron = mesoscale_subsample_2d(deepcopy(neuron), n_nodes)\n",
    "    print subsampled_neuron.n_node\n",
    "    McNeuron.visualize.plot_2D(subsampled_neuron, size = 4, save = str(40+i)+\".eps\")"
   ]
  },
  {
   "cell_type": "code",
   "execution_count": null,
   "metadata": {
    "collapsed": false
   },
   "outputs": [],
   "source": [
    "subsampled_neuron.n_node"
   ]
  },
  {
   "cell_type": "markdown",
   "metadata": {},
   "source": [
    "#### Showing the geometrical data"
   ]
  },
  {
   "cell_type": "code",
   "execution_count": null,
   "metadata": {
    "collapsed": false
   },
   "outputs": [],
   "source": [
    "tmp = reducing_data(neuron_list[0:20], pruning_number=10)\n",
    "geo, morph = separate(tmp)"
   ]
  },
  {
   "cell_type": "code",
   "execution_count": null,
   "metadata": {
    "collapsed": false
   },
   "outputs": [],
   "source": [
    "McNeuron.visualize.plot_2D(tmp[0])"
   ]
  },
  {
   "cell_type": "code",
   "execution_count": null,
   "metadata": {
    "collapsed": false
   },
   "outputs": [],
   "source": [
    "plt.scatter(tmp[0].location[0,:],tmp[0].location[1,:])"
   ]
  },
  {
   "cell_type": "code",
   "execution_count": null,
   "metadata": {
    "collapsed": false,
    "scrolled": false
   },
   "outputs": [],
   "source": [
    "for n in range(10):\n",
    "    plt.scatter(geo[n][0,:],geo[n][1,:])\n",
    "    plt.show()"
   ]
  },
  {
   "cell_type": "code",
   "execution_count": null,
   "metadata": {
    "collapsed": false
   },
   "outputs": [],
   "source": [
    "McNeuron.visualize.plot_2D(tmp[1])"
   ]
  },
  {
   "cell_type": "markdown",
   "metadata": {},
   "source": [
    "#### Testing function: separate [works]"
   ]
  },
  {
   "cell_type": "code",
   "execution_count": null,
   "metadata": {
    "collapsed": false
   },
   "outputs": [],
   "source": [
    "geo, morph = separate(tmp)"
   ]
  },
  {
   "cell_type": "code",
   "execution_count": null,
   "metadata": {
    "collapsed": false
   },
   "outputs": [],
   "source": [
    "print morph[0]\n",
    "print morph[1]\n",
    "print morph[2]"
   ]
  },
  {
   "cell_type": "code",
   "execution_count": null,
   "metadata": {
    "collapsed": false
   },
   "outputs": [],
   "source": [
    "print geo[6].shape\n",
    "n = 1\n",
    "plt.scatter(geo[n][0,:],geo[n][1,:])"
   ]
  },
  {
   "cell_type": "markdown",
   "metadata": {},
   "source": [
    "#### Testing geometry_generator( ) [works]"
   ]
  },
  {
   "cell_type": "code",
   "execution_count": null,
   "metadata": {
    "collapsed": false
   },
   "outputs": [],
   "source": [
    "neuron = McNeuron.Neuron(file_format = 'swc', input_file=neuron_list[0])\n",
    "McNeuron.visualize.plot_2D(neuron)"
   ]
  },
  {
   "cell_type": "code",
   "execution_count": null,
   "metadata": {
    "collapsed": false
   },
   "outputs": [],
   "source": [
    "n1 = neuron.subsample(100)\n",
    "McNeuron.visualize.plot_2D(n1)"
   ]
  },
  {
   "cell_type": "code",
   "execution_count": null,
   "metadata": {
    "collapsed": false
   },
   "outputs": [],
   "source": [
    "McNeuron.visualize.plot_dedrite_tree(n1)"
   ]
  },
  {
   "cell_type": "code",
   "execution_count": null,
   "metadata": {
    "collapsed": false
   },
   "outputs": [],
   "source": [
    "neuron.n_node"
   ]
  },
  {
   "cell_type": "code",
   "execution_count": null,
   "metadata": {
    "collapsed": false
   },
   "outputs": [],
   "source": [
    "n1.n_node"
   ]
  },
  {
   "cell_type": "code",
   "execution_count": null,
   "metadata": {
    "collapsed": false
   },
   "outputs": [],
   "source": [
    "plt.hist(n1.distance_from_parent)"
   ]
  },
  {
   "cell_type": "code",
   "execution_count": null,
   "metadata": {
    "collapsed": false
   },
   "outputs": [],
   "source": [
    "plt.scatter(n1.location[0,:],n1.location[1,:],s = 7)"
   ]
  },
  {
   "cell_type": "code",
   "execution_count": null,
   "metadata": {
    "collapsed": false
   },
   "outputs": [],
   "source": [
    "tmp = mat['N'][2500][3]\n",
    "tmp[0:3,:]"
   ]
  },
  {
   "cell_type": "code",
   "execution_count": null,
   "metadata": {
    "collapsed": true
   },
   "outputs": [],
   "source": []
  }
 ],
 "metadata": {
  "kernelspec": {
   "display_name": "Python 2",
   "language": "python",
   "name": "python2"
  },
  "language_info": {
   "codemirror_mode": {
    "name": "ipython",
    "version": 2
   },
   "file_extension": ".py",
   "mimetype": "text/x-python",
   "name": "python",
   "nbconvert_exporter": "python",
   "pygments_lexer": "ipython2",
   "version": "2.7.12"
  }
 },
 "nbformat": 4,
 "nbformat_minor": 0
}
