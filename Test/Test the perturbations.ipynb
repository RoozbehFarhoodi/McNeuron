{
 "cells": [
  {
   "cell_type": "markdown",
   "metadata": {},
   "source": [
    "# Test the Algorithm"
   ]
  },
  {
   "cell_type": "code",
   "execution_count": null,
   "metadata": {
    "collapsed": true
   },
   "outputs": [],
   "source": [
    "M = {'mean': {'Nbranch': 10,\n",
    "  'Nendpoint': 10,\n",
    "  'Nnodes': 300,\n",
    "  'branch_angle': 2.4,\n",
    "  #'diameter': 1,\n",
    "  #'distance_from_root2': 0, #30,\n",
    "'distance_from_root': 50,\n",
    "  'global_angle': .3,\n",
    "  'length_to_parent': 1,\n",
    "  'local_angle':  3,\n",
    "  'initial_segments': 4,\n",
    "  #'slope': .1,\n",
    "'discrepancy_space': 60,\n",
    "  'ratio_euclidian_neuronal': 1},\n",
    " 'variance': {'Nbranch': 1,\n",
    "  'Nendpoint': 10,\n",
    "  'Nnodes': 5,\n",
    "  'branch_angleangle_branch': .2,\n",
    "  #'diameter': 1,\n",
    "  #'distance_from_root2': .5,\n",
    "    'distance_from_root': 10,\n",
    "  'global_angle': .100,\n",
    "  'length_to_parent': 1,\n",
    "  'local_angle': .1, \n",
    "  'initial_segments': 1,\n",
    "  #'slope': .1,\n",
    "'discrepancy_space': 5,\n",
    "  'ratio_euclidian_neuronal': .01}}"
   ]
  },
  {
   "cell_type": "code",
   "execution_count": null,
   "metadata": {
    "collapsed": false
   },
   "outputs": [],
   "source": [
    "import numpy as np\n",
    "M = {'mean': {'Nbranch': 10,\n",
    " 'branch_angle': .3,\n",
    "# 'Nendpoint': 10,\n",
    " # 'Nnodes': 2000,\n",
    "  #'diameter': 1,\n",
    "#  'distance_from_root2': 0,\n",
    "'distance_from_root': 20,\n",
    " 'global_angle': .1,\n",
    "  'distance_from_parent': 1.2,\n",
    "  'local_angle':  3,\n",
    "  'initial_segments': 4,\n",
    " # 'slope': .1,\n",
    "'discrepancy_space': 60,\n",
    "              'curvature' : .5,\n",
    " 'ratio_euclidian_neuronal': 1\n",
    "              \n",
    "             },\n",
    "'variance': {\n",
    "'Nbranch': 1,\n",
    "  'branch_angle': .1,\n",
    " # 'Nnodes': 30,\n",
    "  #'diameter': 1,\n",
    " # 'distance_from_root2': .2,\n",
    "   'distance_from_root': 3,\n",
    "  'global_angle': .1,\n",
    "  'distance_from_parent': .1,\n",
    " 'local_angle': .1, \n",
    "  'initial_segments': 1,\n",
    "        'curvature' : .1,\n",
    "  #'slope': .1,\n",
    "'discrepancy_space': 5,\n",
    "  'ratio_euclidian_neuronal': .01\n",
    "             },\n",
    "    'hist_range': {'Nbranch': np.array([1]),\n",
    " 'branch_angle': np.arange(0,np.pi,np.pi/10),\n",
    "# 'Nendpoint': 10,\n",
    " # 'Nnodes': 2000,\n",
    "  #'diameter': 1,\n",
    "#  'distance_from_root2': 0,\n",
    "'distance_from_root': np.append(np.arange(1,200,3),500),\n",
    " 'global_angle': np.arange(0,np.pi,np.pi/20),\n",
    "  'distance_from_parent': np.append(np.arange(.5,1.5,.1),10),\n",
    "  'local_angle': np.arange(0,np.pi,np.pi/20),\n",
    "  'initial_segments': np.array([1]),\n",
    " # 'slope': .1,\n",
    "'discrepancy_space': np.array([1]),\n",
    "              'curvature' : np.arange(0,np.pi,np.pi/20),\n",
    " 'ratio_euclidian_neuronal': np.append(np.arange(1,1.5,.03),6)\n",
    "              \n",
    "             },\n",
    "    'hist_variance': {'Nbranch': 2,\n",
    " 'branch_angle': 1,\n",
    "# 'Nendpoint': 10,\n",
    " # 'Nnodes': 2000,\n",
    "  #'diameter': 1,\n",
    "#  'distance_from_root2': 0,\n",
    "'distance_from_root': 1,\n",
    " 'global_angle': 1,\n",
    "  'distance_from_parent': 1,\n",
    "  'local_angle': 1,\n",
    "  'initial_segments': 1,\n",
    " # 'slope': .1,\n",
    "'discrepancy_space': .4,\n",
    "              'curvature' : 1,\n",
    " 'ratio_euclidian_neuronal': 5\n",
    "              \n",
    "             }\n",
    "    }"
   ]
  },
  {
   "cell_type": "code",
   "execution_count": null,
   "metadata": {
    "collapsed": false,
    "scrolled": true
   },
   "outputs": [],
   "source": [
    "import os\n",
    "import sys\n",
    "sys.path.append(\"/Users/RoozbehFarhoudi/Documents/Repos/Generative-Models-of-Neuron-Morphology/\")\n",
    "import numpy as np\n",
    "import btmorph3\n",
    "import matplotlib.pyplot as plt\n",
    "from copy import deepcopy\n",
    "%matplotlib inline\n",
    "#np.random.seed(0)\n",
    "loc2 = \"/Users/RoozbehFarhoudi/Documents/Repos/Generative-Models-of-Neuron-Morphology/Data/Interneuron/allen cell types/CNG version/Pvalb-IRES-Cre-Ai14-475124495.CNG.swc\"\n",
    "inter = btmorph3.Neuron(file_format = 'swc', input_file=loc2)\n",
    "per = btmorph3.Perturbation(iterations = 10,verbose=0); per.set_n_node(300)\n",
    "#per.set_measure(M)\n",
    "per.set_real_neuron(inter,M)\n",
    "per.set_probability(np.array([.5,.5,0,0,0,0,0,0,0,0,0,0,0]))\n",
    "per.fit()\n",
    "gen = per.neuron\n",
    "btmorph3.visualize.plot_2D(gen,show_radius=False);\n",
    "gen_old = deepcopy(per.neuron)\n",
    "per1 = btmorph3.Perturbation(neuron=gen_old, iterations = 1,verbose=1)\n",
    "#per1.set_measure(M)\n",
    "per1.set_real_neuron(inter,M)\n",
    "per1.set_probability(np.array([0,0,0,0,0,0,0,0,0,0,1,0,0]))\n",
    "per1.fit()\n",
    "btmorph3.visualize.plot_2D(per1.neuron,show_radius=False);"
   ]
  },
  {
   "cell_type": "code",
   "execution_count": null,
   "metadata": {
    "collapsed": false,
    "scrolled": true
   },
   "outputs": [],
   "source": [
    "new = btmorph3.Neuron(file_format = 'only list of nodes',input_file = deepcopy(per.neuron.nodes_list))\n",
    "gen = per.neuron"
   ]
  },
  {
   "cell_type": "code",
   "execution_count": null,
   "metadata": {
    "collapsed": true
   },
   "outputs": [],
   "source": [
    "Inter1 = btmorph3.Neuron(file_format = 'swc', input_file=loc2)\n",
    "#Inter2 = btmorph3.Neuron(file_format = 'only list of nodes', input_file=deepcopy(Inter1.nodes_list))"
   ]
  },
  {
   "cell_type": "code",
   "execution_count": null,
   "metadata": {
    "collapsed": false
   },
   "outputs": [],
   "source": [
    "btmorph3.visualize.plot_2D(Inter1,show_radius=False);"
   ]
  },
  {
   "cell_type": "code",
   "execution_count": null,
   "metadata": {
    "collapsed": false
   },
   "outputs": [],
   "source": [
    "inter = deepcopy(Inter1)\n",
    "inter.change_location_toward_end_nodes(10,[30,30,10])\n",
    "inter.set_nodes_values()\n",
    "btmorph3.visualize.plot_2D(inter,show_radius=False);"
   ]
  },
  {
   "cell_type": "code",
   "execution_count": null,
   "metadata": {
    "collapsed": true
   },
   "outputs": [],
   "source": [
    "new = Inter1\n",
    "gen = inter"
   ]
  },
  {
   "cell_type": "code",
   "execution_count": null,
   "metadata": {
    "collapsed": false,
    "scrolled": false
   },
   "outputs": [],
   "source": [
    "print('parent index')\n",
    "print new.parent_index - gen.parent_index\n",
    "print('child_index')\n",
    "print new.child_index - gen.child_index\n",
    "print('branch_order')\n",
    "print new.branch_order - gen.branch_order\n",
    "print('angle_branch')\n",
    "print new.branch_angle - gen.branch_angle\n",
    "print('distance_from_root')\n",
    "print new.distance_from_root - gen.distance_from_root\n",
    "print('length_to_parent')\n",
    "print new.distance_from_parent - gen.distance_from_parent\n",
    "print('local_angle')\n",
    "print new.local_angle - gen.local_angle\n",
    "print('angle_global')\n",
    "print new.global_angle - gen.global_angle\n",
    "print new.location - gen.location"
   ]
  },
  {
   "cell_type": "code",
   "execution_count": null,
   "metadata": {
    "collapsed": false
   },
   "outputs": [],
   "source": [
    "new.root.xyz"
   ]
  },
  {
   "cell_type": "code",
   "execution_count": null,
   "metadata": {
    "collapsed": false
   },
   "outputs": [],
   "source": [
    "M = gen.connection\n",
    "m = new.connection\n",
    "M1, M2 = np.where(~np.isnan(M))\n",
    "m1, m2 = np.where(~np.isnan(m))\n",
    "plt.plot(M[M1,M2] - m[m1,m2])"
   ]
  },
  {
   "cell_type": "code",
   "execution_count": null,
   "metadata": {
    "collapsed": false
   },
   "outputs": [],
   "source": [
    "np.random.normal(size = 3)"
   ]
  },
  {
   "cell_type": "code",
   "execution_count": null,
   "metadata": {
    "collapsed": false
   },
   "outputs": [],
   "source": [
    "gen.branch_order"
   ]
  },
  {
   "cell_type": "code",
   "execution_count": null,
   "metadata": {
    "collapsed": false
   },
   "outputs": [],
   "source": [
    "for i in range(12):\n",
    "    print gen.features.keys()[i]\n",
    "    a = gen.features.values()[i] - new.features.values()[i]\n",
    "    print a"
   ]
  },
  {
   "cell_type": "code",
   "execution_count": null,
   "metadata": {
    "collapsed": false
   },
   "outputs": [],
   "source": [
    "new.branch_order"
   ]
  },
  {
   "cell_type": "code",
   "execution_count": null,
   "metadata": {
    "collapsed": false
   },
   "outputs": [],
   "source": [
    "print new.angle_global\n",
    "print gen.angle_global"
   ]
  },
  {
   "cell_type": "code",
   "execution_count": null,
   "metadata": {
    "collapsed": false
   },
   "outputs": [],
   "source": [
    "len(per1.neuron.nodes_list)"
   ]
  },
  {
   "cell_type": "code",
   "execution_count": null,
   "metadata": {
    "collapsed": false
   },
   "outputs": [],
   "source": [
    "np.where(np.where(~np.isnan(new.overall_connectivity_matrix)) == np.where(~np.isnan(gen.overall_connectivity_matrix)))"
   ]
  },
  {
   "cell_type": "code",
   "execution_count": null,
   "metadata": {
    "collapsed": false
   },
   "outputs": [],
   "source": [
    "np.where(~np.isnan(gen.overall_connectivity_matrix))[1] - np.where(~np.isnan(new.overall_connectivity_matrix))[1]"
   ]
  },
  {
   "cell_type": "code",
   "execution_count": null,
   "metadata": {
    "collapsed": false
   },
   "outputs": [],
   "source": [
    "np.where(~np.isnan(new.overall_connectivity_matrix))[1]"
   ]
  },
  {
   "cell_type": "code",
   "execution_count": null,
   "metadata": {
    "collapsed": false,
    "scrolled": true
   },
   "outputs": [],
   "source": [
    "print new.features\n",
    "print gen.features"
   ]
  },
  {
   "cell_type": "code",
   "execution_count": null,
   "metadata": {
    "collapsed": false
   },
   "outputs": [],
   "source": [
    "gen.ext_red_list - new.ext_red_list"
   ]
  },
  {
   "cell_type": "code",
   "execution_count": null,
   "metadata": {
    "collapsed": false
   },
   "outputs": [],
   "source": [
    "print new.local_angle\n",
    "print gen.local_angle"
   ]
  },
  {
   "cell_type": "code",
   "execution_count": null,
   "metadata": {
    "collapsed": false
   },
   "outputs": [],
   "source": [
    "new.nodes_list[19].children"
   ]
  },
  {
   "cell_type": "code",
   "execution_count": null,
   "metadata": {
    "collapsed": false
   },
   "outputs": [],
   "source": [
    "gen.local_angle[25]"
   ]
  },
  {
   "cell_type": "code",
   "execution_count": null,
   "metadata": {
    "collapsed": false
   },
   "outputs": [],
   "source": [
    "new.n_soma"
   ]
  },
  {
   "cell_type": "code",
   "execution_count": null,
   "metadata": {
    "collapsed": false
   },
   "outputs": [],
   "source": [
    "new.overall_connectivity_matrix[:,3]"
   ]
  },
  {
   "cell_type": "code",
   "execution_count": null,
   "metadata": {
    "collapsed": false
   },
   "outputs": [],
   "source": [
    "gen.overall_connectivity_matrix[:,43]"
   ]
  },
  {
   "cell_type": "code",
   "execution_count": null,
   "metadata": {
    "collapsed": false
   },
   "outputs": [],
   "source": [
    "gen_old.overall_connectivity_matrix[:,4]"
   ]
  },
  {
   "cell_type": "code",
   "execution_count": null,
   "metadata": {
    "collapsed": false
   },
   "outputs": [],
   "source": [
    "print np.where(~np.isnan(gen.overall_connectivity_matrix))[0]"
   ]
  },
  {
   "cell_type": "code",
   "execution_count": null,
   "metadata": {
    "collapsed": false
   },
   "outputs": [],
   "source": [
    "print np.where(~np.isnan(new.overall_connectivity_matrix))[0]"
   ]
  },
  {
   "cell_type": "code",
   "execution_count": null,
   "metadata": {
    "collapsed": false
   },
   "outputs": [],
   "source": [
    "print np.where(~np.isnan(gen_old.overall_connectivity_matrix))[0]"
   ]
  },
  {
   "cell_type": "code",
   "execution_count": null,
   "metadata": {
    "collapsed": false
   },
   "outputs": [],
   "source": [
    "plt.imshow(gen.overall_connectivity_matrix)"
   ]
  },
  {
   "cell_type": "code",
   "execution_count": null,
   "metadata": {
    "collapsed": false
   },
   "outputs": [],
   "source": [
    "plt.imshow(new.overall_connectivity_matrix)"
   ]
  },
  {
   "cell_type": "code",
   "execution_count": null,
   "metadata": {
    "collapsed": false
   },
   "outputs": [],
   "source": [
    "plt.imshow(gen_old.overall_connectivity_matrix)"
   ]
  },
  {
   "cell_type": "code",
   "execution_count": null,
   "metadata": {
    "collapsed": false
   },
   "outputs": [],
   "source": [
    "new.get_index_for_no_soma_node(new.nodes_list[12].parent)"
   ]
  },
  {
   "cell_type": "code",
   "execution_count": null,
   "metadata": {
    "collapsed": false
   },
   "outputs": [],
   "source": [
    "new.get_index_for_no_soma_node(new.nodes_list[3].children[0])"
   ]
  },
  {
   "cell_type": "code",
   "execution_count": null,
   "metadata": {
    "collapsed": false
   },
   "outputs": [],
   "source": [
    "gen.overall_connectivity_matrix[8,3]"
   ]
  },
  {
   "cell_type": "markdown",
   "metadata": {
    "collapsed": true
   },
   "source": [
    "## Test ext/red perturbation"
   ]
  },
  {
   "cell_type": "code",
   "execution_count": null,
   "metadata": {
    "collapsed": false
   },
   "outputs": [],
   "source": [
    "import os\n",
    "import sys\n",
    "sys.path.append(\"/Users/RoozbehFarhoudi/Documents/Repos/Generative-Models-of-Neuron-Morphology/\")\n",
    "import btmorph3\n",
    "import numpy as np\n",
    "import matplotlib.pyplot as plt\n",
    "from copy import deepcopy\n",
    "%matplotlib inline\n",
    "#np.random.seed(0)\n",
    "per = btmorph3.Perturbation(iterations = 20000,verbose=0)\n",
    "M = {'mean': {\n",
    "# 'Nbranch': 20,\n",
    "  'Nendpoint': 20,\n",
    "  'Nnodes': 400,\n",
    "  #'angle_branch': 2.4,\n",
    "  #'diameter': 1,\n",
    "  #'distance_from_root2': 0, #30,\n",
    "#'distance_from_root': 50,\n",
    "  #'global_angle': .3,\n",
    "  #'length_to_parent': 1,\n",
    " # 'local_angle':  3,\n",
    "  'initial_segments': 4,\n",
    "  #'slope': .1,\n",
    "#'discrepancy_space': 60,\n",
    "  'ratio_euclidian_neuronal': 1\n",
    "    },\n",
    " 'variance': {\n",
    " #  'Nbranch': 1,\n",
    "  'Nendpoint': 1,\n",
    "  'Nnodes': 5,\n",
    " # 'angle_branch': .2,\n",
    "  #'diameter': 1,\n",
    "  #'distance_from_root2': .5,\n",
    "  #  'distance_from_root': 10,\n",
    " # 'global_angle': .100,\n",
    "  #'length_to_parent': 1,\n",
    " # 'local_angle': .1, \n",
    "  'initial_segments': .3,\n",
    "  #'slope': .1,\n",
    "#'discrepancy_space': 5,\n",
    "  'ratio_euclidian_neuronal': .01\n",
    "             }}\n",
    "per.set_ratio_red_to_ext(.1)\n",
    "per.set_measure(M)\n",
    "per.set_probability(np.array([.5,.5,0,0,0,0,0,0,0,0]))\n",
    "per.fit()\n",
    "gen = per.neuron\n",
    "btmorph3.visualize.plot_2D(gen,show_radius=False);"
   ]
  },
  {
   "cell_type": "code",
   "execution_count": null,
   "metadata": {
    "collapsed": false
   },
   "outputs": [],
   "source": [
    "plt.plot(np.transpose(per.trend_normal[:,2000:]));\n",
    "plt.legend(M['mean'].keys(),bbox_to_anchor=(1.7, 1))\n",
    "#plt.ylim([-1,1])"
   ]
  },
  {
   "cell_type": "code",
   "execution_count": null,
   "metadata": {
    "collapsed": false
   },
   "outputs": [],
   "source": [
    "plt.plot(sum(per.trend,0));"
   ]
  },
  {
   "cell_type": "code",
   "execution_count": null,
   "metadata": {
    "collapsed": false
   },
   "outputs": [],
   "source": [
    "per.neuron.features"
   ]
  },
  {
   "cell_type": "code",
   "execution_count": null,
   "metadata": {
    "collapsed": true
   },
   "outputs": [],
   "source": [
    "plt.plot(np.transpose(per.trend_normal[:,500:]));\n",
    "plt.legend(M['mean'].keys(),bbox_to_anchor=(1.7, 1))\n",
    "#plt.ylim([-1,1])"
   ]
  }
 ],
 "metadata": {
  "kernelspec": {
   "display_name": "Python 2",
   "language": "python",
   "name": "python2"
  },
  "language_info": {
   "codemirror_mode": {
    "name": "ipython",
    "version": 2
   },
   "file_extension": ".py",
   "mimetype": "text/x-python",
   "name": "python",
   "nbconvert_exporter": "python",
   "pygments_lexer": "ipython2",
   "version": "2.7.12"
  }
 },
 "nbformat": 4,
 "nbformat_minor": 0
}
