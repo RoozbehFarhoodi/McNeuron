{
 "cells": [
  {
   "cell_type": "markdown",
   "metadata": {},
   "source": [
    "# New Test"
   ]
  },
  {
   "cell_type": "code",
   "execution_count": null,
   "metadata": {
    "collapsed": false
   },
   "outputs": [],
   "source": [
    "import os\n",
    "import sys\n",
    "sys.path.append(\"/Users/RoozbehFarhoudi/Documents/Repos/Generative-Models-of-Neuron-Morphology/\")\n",
    "import numpy as np\n",
    "import McNeuron\n",
    "import matplotlib.pyplot as plt\n",
    "from copy import deepcopy\n",
    "%matplotlib inline\n",
    "\n",
    "loc2 = \"/Users/RoozbehFarhoudi/Documents/Repos/Generative-Models-of-Neuron-Morphology/Data/Interneuron/allen cell types/CNG version/Pvalb-IRES-Cre-Ai14-475124495.CNG.swc\"\n",
    "inter = McNeuron.Neuron(file_format = 'swc', input_file=loc2)\n",
    "inter = inter.subsample(10.)\n",
    "per = McNeuron.Perturbation(iterations = 1000,verbose=0)\n"
   ]
  },
  {
   "cell_type": "code",
   "execution_count": null,
   "metadata": {
    "collapsed": false
   },
   "outputs": [],
   "source": [
    "n = deepcopy(inter)\n",
    "d = per.do_sliding(n)\n",
    "n.set_nodes_values()"
   ]
  },
  {
   "cell_type": "code",
   "execution_count": null,
   "metadata": {
    "collapsed": false
   },
   "outputs": [],
   "source": [
    "d"
   ]
  },
  {
   "cell_type": "code",
   "execution_count": null,
   "metadata": {
    "collapsed": false
   },
   "outputs": [],
   "source": [
    "dn = McNeuron.Neuron(file_format = 'only list of nodes', input_file = deepcopy(n.nodes_list))"
   ]
  },
  {
   "cell_type": "code",
   "execution_count": null,
   "metadata": {
    "collapsed": true
   },
   "outputs": [],
   "source": [
    "new = n\n",
    "gen = dn"
   ]
  },
  {
   "cell_type": "code",
   "execution_count": null,
   "metadata": {
    "collapsed": false
   },
   "outputs": [],
   "source": [
    "gen.distance_from_root[6]"
   ]
  },
  {
   "cell_type": "code",
   "execution_count": null,
   "metadata": {
    "collapsed": false
   },
   "outputs": [],
   "source": [
    "n.nodes_list[6].xyz"
   ]
  },
  {
   "cell_type": "code",
   "execution_count": null,
   "metadata": {
    "collapsed": false
   },
   "outputs": [],
   "source": [
    "np.array_equal(new.child_index, gen.child_index)"
   ]
  },
  {
   "cell_type": "code",
   "execution_count": null,
   "metadata": {
    "collapsed": false,
    "scrolled": true
   },
   "outputs": [],
   "source": [
    "print('parent index')\n",
    "print new.parent_index - gen.parent_index\n",
    "print('child_index')\n",
    "print new.child_index - gen.child_index\n",
    "print('branch_order')\n",
    "print new.branch_order - gen.branch_order\n",
    "print('angle_branch')\n",
    "print new.branch_angle - gen.branch_angle\n",
    "print('distance_from_root')\n",
    "print new.distance_from_root - gen.distance_from_root\n",
    "print('length_to_parent')\n",
    "print new.distance_from_parent - gen.distance_from_parent\n",
    "print('local_angle')\n",
    "print new.local_angle - gen.local_angle\n",
    "print('angle_global')\n",
    "print new.global_angle - gen.global_angle\n",
    "print new.location - gen.location"
   ]
  }
 ],
 "metadata": {
  "kernelspec": {
   "display_name": "Python 2",
   "language": "python",
   "name": "python2"
  },
  "language_info": {
   "codemirror_mode": {
    "name": "ipython",
    "version": 2
   },
   "file_extension": ".py",
   "mimetype": "text/x-python",
   "name": "python",
   "nbconvert_exporter": "python",
   "pygments_lexer": "ipython2",
   "version": "2.7.12"
  }
 },
 "nbformat": 4,
 "nbformat_minor": 0
}
